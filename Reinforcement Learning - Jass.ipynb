{
 "cells": [
  {
   "cell_type": "code",
   "execution_count": 1,
   "metadata": {
    "collapsed": false
   },
   "outputs": [
    {
     "name": "stderr",
     "output_type": "stream",
     "text": [
      "Using Theano backend.\n"
     ]
    }
   ],
   "source": [
    "%load_ext autoreload\n",
    "%autoreload 2\n",
    "\n",
    "import random\n",
    "import numpy as np\n",
    "import pandas as pd\n",
    "import IPython.display as dp\n",
    "\n",
    "from jassbot.Config import *\n",
    "from jassbot.GameLogic import *\n",
    "from jassbot.GameStrategy import *\n",
    "from jassbot.Chrono import *\n",
    "\n",
    "create_logger()\n",
    "\n",
    "model = create_model()\n",
    "stats = pd.DataFrame({'rounds won':[], 'games won':[]})\n",
    "epsilon = 1\n",
    "\n",
    "%matplotlib inline"
   ]
  },
  {
   "cell_type": "code",
   "execution_count": null,
   "metadata": {
    "collapsed": false,
    "scrolled": false
   },
   "outputs": [
    {
     "name": "stdout",
     "output_type": "stream",
     "text": [
      "*** learning phase 1 / 100\n",
      "learning: 247 ms (1)\n",
      "learning time: 149967 ms\n",
      "*** testing phase 1 / 100\n",
      "test: 324 ms (1)\n"
     ]
    },
    {
     "data": {
      "text/html": [
       "<div>\n",
       "<table border=\"1\" class=\"dataframe\">\n",
       "  <thead>\n",
       "    <tr style=\"text-align: right;\">\n",
       "      <th></th>\n",
       "      <th>games won</th>\n",
       "      <th>ratio</th>\n",
       "      <th>rounds won</th>\n",
       "    </tr>\n",
       "  </thead>\n",
       "  <tbody>\n",
       "    <tr>\n",
       "      <th>0</th>\n",
       "      <td>0.511</td>\n",
       "      <td>0.503522</td>\n",
       "      <td>0.487375</td>\n",
       "    </tr>\n",
       "  </tbody>\n",
       "</table>\n",
       "</div>"
      ],
      "text/plain": [
       "   games won     ratio  rounds won\n",
       "0      0.511  0.503522    0.487375"
      ]
     },
     "metadata": {},
     "output_type": "display_data"
    },
    {
     "name": "stdout",
     "output_type": "stream",
     "text": [
      "*** learning phase 2 / 100\n",
      "learning: 775 ms (1)\n",
      "learning time: 237891 ms\n",
      "*** testing phase 2 / 100\n",
      "test: 403 ms (1)\n"
     ]
    },
    {
     "data": {
      "text/html": [
       "<div>\n",
       "<table border=\"1\" class=\"dataframe\">\n",
       "  <thead>\n",
       "    <tr style=\"text-align: right;\">\n",
       "      <th></th>\n",
       "      <th>games won</th>\n",
       "      <th>ratio</th>\n",
       "      <th>rounds won</th>\n",
       "    </tr>\n",
       "  </thead>\n",
       "  <tbody>\n",
       "    <tr>\n",
       "      <th>1</th>\n",
       "      <td>0.495</td>\n",
       "      <td>0.492713</td>\n",
       "      <td>0.473875</td>\n",
       "    </tr>\n",
       "  </tbody>\n",
       "</table>\n",
       "</div>"
      ],
      "text/plain": [
       "   games won     ratio  rounds won\n",
       "1      0.495  0.492713    0.473875"
      ]
     },
     "metadata": {},
     "output_type": "display_data"
    },
    {
     "name": "stdout",
     "output_type": "stream",
     "text": [
      "*** learning phase 3 / 100\n",
      "learning: 881 ms (1)\n",
      "learning time: 263620 ms\n",
      "*** testing phase 3 / 100\n",
      "test: 406 ms (1)\n"
     ]
    },
    {
     "data": {
      "text/html": [
       "<div>\n",
       "<table border=\"1\" class=\"dataframe\">\n",
       "  <thead>\n",
       "    <tr style=\"text-align: right;\">\n",
       "      <th></th>\n",
       "      <th>games won</th>\n",
       "      <th>ratio</th>\n",
       "      <th>rounds won</th>\n",
       "    </tr>\n",
       "  </thead>\n",
       "  <tbody>\n",
       "    <tr>\n",
       "      <th>2</th>\n",
       "      <td>0.518</td>\n",
       "      <td>0.507917</td>\n",
       "      <td>0.5005</td>\n",
       "    </tr>\n",
       "  </tbody>\n",
       "</table>\n",
       "</div>"
      ],
      "text/plain": [
       "   games won     ratio  rounds won\n",
       "2      0.518  0.507917      0.5005"
      ]
     },
     "metadata": {},
     "output_type": "display_data"
    },
    {
     "name": "stdout",
     "output_type": "stream",
     "text": [
      "*** learning phase 4 / 100\n",
      "learning: 918 ms (1)\n",
      "learning time: 269969 ms\n",
      "*** testing phase 4 / 100\n",
      "test: 433 ms (1)\n"
     ]
    },
    {
     "data": {
      "text/html": [
       "<div>\n",
       "<table border=\"1\" class=\"dataframe\">\n",
       "  <thead>\n",
       "    <tr style=\"text-align: right;\">\n",
       "      <th></th>\n",
       "      <th>games won</th>\n",
       "      <th>ratio</th>\n",
       "      <th>rounds won</th>\n",
       "    </tr>\n",
       "  </thead>\n",
       "  <tbody>\n",
       "    <tr>\n",
       "      <th>3</th>\n",
       "      <td>0.519</td>\n",
       "      <td>0.503898</td>\n",
       "      <td>0.48</td>\n",
       "    </tr>\n",
       "  </tbody>\n",
       "</table>\n",
       "</div>"
      ],
      "text/plain": [
       "   games won     ratio  rounds won\n",
       "3      0.519  0.503898        0.48"
      ]
     },
     "metadata": {},
     "output_type": "display_data"
    },
    {
     "name": "stdout",
     "output_type": "stream",
     "text": [
      "*** learning phase 5 / 100\n",
      "learning: 521 ms (1)\n",
      "learning time: 272617 ms\n",
      "*** testing phase 5 / 100\n",
      "test: 358 ms (1)\n"
     ]
    },
    {
     "data": {
      "text/html": [
       "<div>\n",
       "<table border=\"1\" class=\"dataframe\">\n",
       "  <thead>\n",
       "    <tr style=\"text-align: right;\">\n",
       "      <th></th>\n",
       "      <th>games won</th>\n",
       "      <th>ratio</th>\n",
       "      <th>rounds won</th>\n",
       "    </tr>\n",
       "  </thead>\n",
       "  <tbody>\n",
       "    <tr>\n",
       "      <th>4</th>\n",
       "      <td>0.464</td>\n",
       "      <td>0.487631</td>\n",
       "      <td>0.481125</td>\n",
       "    </tr>\n",
       "  </tbody>\n",
       "</table>\n",
       "</div>"
      ],
      "text/plain": [
       "   games won     ratio  rounds won\n",
       "4      0.464  0.487631    0.481125"
      ]
     },
     "metadata": {},
     "output_type": "display_data"
    },
    {
     "name": "stdout",
     "output_type": "stream",
     "text": [
      "*** learning phase 6 / 100\n",
      "learning: 47 ms (1)\n",
      "learning time: 294239 ms\n",
      "*** testing phase 6 / 100\n",
      "test: 969 ms (1)\n"
     ]
    },
    {
     "data": {
      "text/html": [
       "<div>\n",
       "<table border=\"1\" class=\"dataframe\">\n",
       "  <thead>\n",
       "    <tr style=\"text-align: right;\">\n",
       "      <th></th>\n",
       "      <th>games won</th>\n",
       "      <th>ratio</th>\n",
       "      <th>rounds won</th>\n",
       "    </tr>\n",
       "  </thead>\n",
       "  <tbody>\n",
       "    <tr>\n",
       "      <th>5</th>\n",
       "      <td>0.481</td>\n",
       "      <td>0.495338</td>\n",
       "      <td>0.4805</td>\n",
       "    </tr>\n",
       "  </tbody>\n",
       "</table>\n",
       "</div>"
      ],
      "text/plain": [
       "   games won     ratio  rounds won\n",
       "5      0.481  0.495338      0.4805"
      ]
     },
     "metadata": {},
     "output_type": "display_data"
    }
   ],
   "source": [
    "state = init()\n",
    "\n",
    "simulations = 100\n",
    "\n",
    "epochs = 1000\n",
    "test_runs = 1000\n",
    "\n",
    "logger = get_logger()\n",
    "\n",
    "chrono = Chrono()\n",
    "for s in range(simulations):\n",
    "\n",
    "    temp_memory = []\n",
    "    round_wins = []\n",
    "    print('*** learning phase %i / %i' % (s+1, simulations))\n",
    "    chrono.start()\n",
    "    learning_time = 0\n",
    "    for epoch in range(epochs):\n",
    "        new_game(state)\n",
    "        logger.info(\"*** start of a new game\")\n",
    "        print_state(state)\n",
    "\n",
    "        # we first define the suit order used later for the algorithm, for each player\n",
    "        # (depending on his hand and the current trump suit)\n",
    "        suit_orders = []\n",
    "        for p in range(4):\n",
    "            player_hand = state['p%i_hand' % p]\n",
    "            trump = state['trump']\n",
    "            suit_order = order_suits(player_hand, trump)\n",
    "            suit_orders.append(suit_order)\n",
    "\n",
    "        for j in range(9):\n",
    "            for i in range(4):\n",
    "                suit_order = suit_orders[i]\n",
    "                \n",
    "                #chrono.start()\n",
    "                result = play_once(state, lambda (possible_cards): \\\n",
    "                          choose(suit_order,state,possible_cards,model,temp_memory,epsilon))\n",
    "                #chrono.stop(\"choose\")\n",
    "\n",
    "                assert i < 3 and result is None or \\\n",
    "                       i == 3 and result is not None\n",
    "\n",
    "                if i == 3: # at the end of one round\n",
    "\n",
    "                    round_wins.append(result)\n",
    "\n",
    "                    if len(state['played']) == 36: \n",
    "\n",
    "                        # the game is finished, we can update the model\n",
    "                        chrono.start()\n",
    "                        update_model_game_end(model,temp_memory,round_wins,epsilon)\n",
    "                        learning_time += chrono.stop()\n",
    "\n",
    "    chrono.stop('learning')\n",
    "    print('learning time: %i ms' % learning_time)\n",
    "\n",
    "    game_wins = pd.DataFrame({'game won':[]})\n",
    "    round_wins = pd.DataFrame({'round won':[]})\n",
    "\n",
    "    print('*** testing phase %i / %i' % (s+1, simulations))\n",
    "    game_wins_idx = 0\n",
    "    round_wins_idx = 0\n",
    "    chrono.start()\n",
    "    for epoch in range(test_runs):\n",
    "        new_game(state)\n",
    "        logger.info(\"*** start of a new game\")\n",
    "        print_state(state)\n",
    "\n",
    "        for j in range(4*9):\n",
    "            result = play_once(state, lambda (possible_cards): \\\n",
    "                      choose_for_test(suit_order,state,possible_cards,model,temp_memory,epsilon))\n",
    "\n",
    "            if result is not None:\n",
    "                team = result['team']\n",
    "                is_final = result['final']\n",
    "\n",
    "                if is_final:\n",
    "                    ratio = result['ratio']\n",
    "                    df = pd.DataFrame({'game won':[1 if team == 0 else 0], 'ratio': [ratio]}, index=[game_wins_idx])\n",
    "                    game_wins = game_wins.append(df)\n",
    "                    game_wins_idx += 1\n",
    "                else:\n",
    "                    df = pd.DataFrame({'round won':[1 if team == 0 else 0]}, index=[round_wins_idx])\n",
    "                    round_wins = round_wins.append(df)\n",
    "                    round_wins_idx += 1\n",
    "    chrono.stop('test')\n",
    "\n",
    "    games_won = 1.0 * len(game_wins[game_wins['game won'] == 1]) / test_runs\n",
    "    ratio = game_wins['ratio'].mean()\n",
    "\n",
    "    # we have 8 rounds, excepted the final one that we don't count here\n",
    "    rounds_won = 1.0 * len(round_wins[round_wins['round won'] == 1]) / (test_runs * 8)\n",
    "    \n",
    "    df = pd.DataFrame({'rounds won':[rounds_won], 'games won':[games_won], 'ratio':[ratio]},index=[s])\n",
    "    dp.display(df)\n",
    "    stats = stats.append(df)\n",
    "    \n",
    "    if epsilon > 0.1:\n",
    "        epsilon -= (1/simulations)\n",
    "\n",
    "\n",
    "stats.to_csv('data/%s-stats.csv')"
   ]
  },
  {
   "cell_type": "code",
   "execution_count": null,
   "metadata": {
    "collapsed": false
   },
   "outputs": [],
   "source": [
    "list(set([1,2,3]) - set([2,3]))\n",
    "\n",
    "def rank_order(i1,i2):\n",
    "    return i2['nb'] - i1['nb'] if i1['nb'] != i2['nb'] else i1['best_rank'] - i2['best_rank']\n",
    "\n",
    "\"abc\".startswith(\"ad\")\n",
    "sorted([{'nb': 1, 'best_rank':4}, {'nb': 2, 'best_rank': 2}], cmp=rank_order)\n",
    "\n",
    "#abc = []\n",
    "\n",
    "#stats.index = range(len(stats))\n",
    "#stats['ratio'].plot()\n",
    "# a = [{'nb': 3, 'best_rank':4}, {'nb': 3, 'best_rank': 2}]\n",
    "# print(a[0]['nb']*10+a[0]['best_rank'])\n",
    "# print(a[1]['nb']*10+a[1]['best_rank'])\n",
    "\n",
    "now_as_string()"
   ]
  }
 ],
 "metadata": {
  "kernelspec": {
   "display_name": "Python 2",
   "language": "python",
   "name": "python2"
  },
  "language_info": {
   "codemirror_mode": {
    "name": "ipython",
    "version": 2
   },
   "file_extension": ".py",
   "mimetype": "text/x-python",
   "name": "python",
   "nbconvert_exporter": "python",
   "pygments_lexer": "ipython2",
   "version": "2.7.10"
  }
 },
 "nbformat": 4,
 "nbformat_minor": 0
}
