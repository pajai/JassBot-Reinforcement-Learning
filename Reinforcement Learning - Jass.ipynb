{
 "cells": [
  {
   "cell_type": "code",
   "execution_count": 1,
   "metadata": {
    "collapsed": false
   },
   "outputs": [
    {
     "name": "stderr",
     "output_type": "stream",
     "text": [
      "Using Theano backend.\n"
     ]
    }
   ],
   "source": [
    "%load_ext autoreload\n",
    "%autoreload 2\n",
    "\n",
    "import random\n",
    "import numpy as np\n",
    "import pandas as pd\n",
    "import IPython.display as dp\n",
    "\n",
    "from jassbot.Config import *\n",
    "from jassbot.GameLogic import *\n",
    "from jassbot.GameStrategy import *\n",
    "\n",
    "create_logger()"
   ]
  },
  {
   "cell_type": "code",
   "execution_count": null,
   "metadata": {
    "collapsed": true
   },
   "outputs": [],
   "source": [
    "state = init()\n",
    "new_game(state)\n",
    "print_state(state)\n",
    "while len(state['played']) < 36:\n",
    "    play_round(state)\n",
    "print_state(state)"
   ]
  },
  {
   "cell_type": "code",
   "execution_count": null,
   "metadata": {
    "collapsed": true
   },
   "outputs": [],
   "source": [
    "state = init()\n",
    "new_game(state)\n",
    "print_state(state)\n",
    "play_round(state, lambda cards: random.choice(cards))\n",
    "play_round(state, lambda cards: random.choice(cards))\n",
    "print_state(state)"
   ]
  },
  {
   "cell_type": "code",
   "execution_count": 2,
   "metadata": {
    "collapsed": false,
    "scrolled": true
   },
   "outputs": [
    {
     "name": "stdout",
     "output_type": "stream",
     "text": [
      "*** learning phase 1 / 2\n",
      "*** testing phase 1 / 2\n"
     ]
    },
    {
     "data": {
      "text/html": [
       "<div>\n",
       "<table border=\"1\" class=\"dataframe\">\n",
       "  <thead>\n",
       "    <tr style=\"text-align: right;\">\n",
       "      <th></th>\n",
       "      <th>games won</th>\n",
       "      <th>rounds won</th>\n",
       "    </tr>\n",
       "  </thead>\n",
       "  <tbody>\n",
       "    <tr>\n",
       "      <th>0</th>\n",
       "      <td>0.6</td>\n",
       "      <td>0.46125</td>\n",
       "    </tr>\n",
       "  </tbody>\n",
       "</table>\n",
       "</div>"
      ],
      "text/plain": [
       "   games won  rounds won\n",
       "0        0.6     0.46125"
      ]
     },
     "metadata": {},
     "output_type": "display_data"
    },
    {
     "name": "stdout",
     "output_type": "stream",
     "text": [
      "*** learning phase 2 / 2\n",
      "*** testing phase 2 / 2\n"
     ]
    },
    {
     "data": {
      "text/html": [
       "<div>\n",
       "<table border=\"1\" class=\"dataframe\">\n",
       "  <thead>\n",
       "    <tr style=\"text-align: right;\">\n",
       "      <th></th>\n",
       "      <th>games won</th>\n",
       "      <th>rounds won</th>\n",
       "    </tr>\n",
       "  </thead>\n",
       "  <tbody>\n",
       "    <tr>\n",
       "      <th>1</th>\n",
       "      <td>0.42</td>\n",
       "      <td>0.37625</td>\n",
       "    </tr>\n",
       "  </tbody>\n",
       "</table>\n",
       "</div>"
      ],
      "text/plain": [
       "   games won  rounds won\n",
       "1       0.42     0.37625"
      ]
     },
     "metadata": {},
     "output_type": "display_data"
    },
    {
     "data": {
      "text/html": [
       "<div>\n",
       "<table border=\"1\" class=\"dataframe\">\n",
       "  <thead>\n",
       "    <tr style=\"text-align: right;\">\n",
       "      <th></th>\n",
       "      <th>games won</th>\n",
       "      <th>rounds won</th>\n",
       "    </tr>\n",
       "  </thead>\n",
       "  <tbody>\n",
       "    <tr>\n",
       "      <th>0</th>\n",
       "      <td>0.60</td>\n",
       "      <td>0.46125</td>\n",
       "    </tr>\n",
       "    <tr>\n",
       "      <th>1</th>\n",
       "      <td>0.42</td>\n",
       "      <td>0.37625</td>\n",
       "    </tr>\n",
       "  </tbody>\n",
       "</table>\n",
       "</div>"
      ],
      "text/plain": [
       "   games won  rounds won\n",
       "0       0.60     0.46125\n",
       "1       0.42     0.37625"
      ]
     },
     "execution_count": 2,
     "metadata": {},
     "output_type": "execute_result"
    }
   ],
   "source": [
    "state = init()\n",
    "epsilon = 1\n",
    "epochs = 1000\n",
    "model = create_model()\n",
    "test_runs = 100\n",
    "\n",
    "simulations = 2\n",
    "logger = get_logger()\n",
    "\n",
    "stats = pd.DataFrame({'rounds won':[], 'games won':[]})\n",
    "for s in range(simulations):\n",
    "\n",
    "    temp_memory = []\n",
    "    round_wins = []\n",
    "    print('*** learning phase %i / %i' % (s+1, simulations))\n",
    "    for epoch in range(epochs):\n",
    "        new_game(state)\n",
    "        logger.info(\"*** start of a new game\")\n",
    "        print_state(state)\n",
    "\n",
    "        for j in range(9):\n",
    "            for i in range(4):\n",
    "                result = play_once(state, lambda (possible_cards): \\\n",
    "                          choose(state,possible_cards,model,temp_memory,epsilon))\n",
    "\n",
    "                assert i < 3 and result is None or \\\n",
    "                       i == 3 and result is not None\n",
    "\n",
    "                if i == 3: # at the end of one round\n",
    "\n",
    "                    round_wins.append(result)\n",
    "\n",
    "                    if len(state['played']) == 36: \n",
    "\n",
    "                        # the game is finished, we can update the model\n",
    "                        update_model_game_end(model,temp_memory,round_wins,epsilon)\n",
    "\n",
    "    game_wins = pd.DataFrame({'game won':[]})\n",
    "    round_wins = pd.DataFrame({'round won':[]})\n",
    "\n",
    "    print('*** testing phase %i / %i' % (s+1, simulations))\n",
    "    game_wins_idx = 0\n",
    "    round_wins_idx = 0\n",
    "    for epoch in range(test_runs):\n",
    "        new_game(state)\n",
    "        logger.info(\"*** start of a new game\")\n",
    "        print_state(state)\n",
    "\n",
    "        for j in range(4*9):\n",
    "            result = play_once(state, lambda (possible_cards): \\\n",
    "                      choose_for_test(state,possible_cards,model,temp_memory,epsilon))\n",
    "\n",
    "            if result is not None:\n",
    "                team = result['team']\n",
    "                is_final = result['final']\n",
    "\n",
    "                if is_final:\n",
    "                    df = pd.DataFrame({'game won':[1 if team == 0 else 0]}, index=[game_wins_idx])\n",
    "                    game_wins = game_wins.append(df)\n",
    "                    game_wins_idx += 1\n",
    "                else:\n",
    "                    df = pd.DataFrame({'round won':[1 if team == 0 else 0]}, index=[round_wins_idx])\n",
    "                    round_wins = round_wins.append(df)\n",
    "                    round_wins_idx += 1\n",
    "\n",
    "\n",
    "    games_won = 1.0 * len(game_wins[game_wins['game won'] == 1]) / test_runs\n",
    "    # we have 8 rounds, excepted the final one that we don't count here\n",
    "    rounds_won = 1.0 * len(round_wins[round_wins['round won'] == 1]) / (test_runs * 8)\n",
    "    df = pd.DataFrame({'rounds won':[rounds_won], 'games won':[games_won]},index=[s])\n",
    "    dp.display(df)\n",
    "    stats = stats.append(df)\n",
    "    \n",
    "    if epsilon > 0.1:\n",
    "        epsilon -= (1/simulations)\n",
    "\n",
    "stats"
   ]
  },
  {
   "cell_type": "code",
   "execution_count": 3,
   "metadata": {
    "collapsed": false
   },
   "outputs": [
    {
     "name": "stdout",
     "output_type": "stream",
     "text": [
      "____________________________________________________________________________________________________\n",
      "Layer (type)                     Output Shape          Param #     Connected to                     \n",
      "====================================================================================================\n",
      "dense_1 (Dense)                  (None, 220)           24420       dense_input_1[0][0]              \n",
      "____________________________________________________________________________________________________\n",
      "activation_1 (Activation)        (None, 220)           0           dense_1[0][0]                    \n",
      "____________________________________________________________________________________________________\n",
      "dense_2 (Dense)                  (None, 300)           66300       activation_1[0][0]               \n",
      "____________________________________________________________________________________________________\n",
      "activation_2 (Activation)        (None, 300)           0           dense_2[0][0]                    \n",
      "____________________________________________________________________________________________________\n",
      "dense_3 (Dense)                  (None, 36)            10836       activation_2[0][0]               \n",
      "____________________________________________________________________________________________________\n",
      "activation_3 (Activation)        (None, 36)            0           dense_3[0][0]                    \n",
      "====================================================================================================\n",
      "Total params: 101556\n",
      "____________________________________________________________________________________________________\n"
     ]
    }
   ],
   "source": [
    "#model.predict(feat.reshape(1,110), batch_size=1)\n",
    "\n",
    "# a = np.array([0,20,10,0.5])\n",
    "# print(\"shape is %s\" % a.shape)\n",
    "\n",
    "# create_logger()\n",
    "# create_logger()\n",
    "\n",
    "\n",
    "# logger = get_logger()\n",
    "# logger.warning('123 444')\n",
    "#logger.warning('123 444')\n",
    "\n",
    "# idx = 21\n",
    "# idx / 9\n",
    "# idx % 9\n",
    "\n",
    "# mask = np.array([ 0.,  0.,  0.,  0.,  1.,  0.,  1.,  0.,  1.,  0.,  0.,  0.,  1.,  0.,  0.,  1.,  0.,  0.,\n",
    "#   1.,  0.,  0.,  0.,  0.,  0.,  1.,  0.,  0.,  0.,  1.,  0.,  0.,  1.,  0.,  0.,  0.,  0.])\n",
    "# qval = np.array([[  8.31833303e-01,   2.73417532e-01,   6.78057134e-01,   1.35389102e+00,\n",
    "#    -9.99412751e+02,   7.50266671e-01,  -9.99387690e+02,   5.98161995e-01,\n",
    "#    -9.99129153e+02,   1.29790694e-01,   6.95346236e-01,   4.18830216e-01,\n",
    "#    -9.99768427e+02,  -4.85480996e-03,   2.25901946e-01,  -9.99599565e+02,\n",
    "#     5.34388781e-01,   2.60302991e-01,  -9.99895701e+02,   7.67788053e-01,\n",
    "#     1.85738713e-01,   1.25354931e-01,   4.80328113e-01,   2.87905961e-01,\n",
    "#    -9.99341063e+02,   6.00367449e-02,   1.96240738e-01,   5.77371418e-01,\n",
    "#    -9.99449866e+02,   2.62334257e-01,   5.46337962e-02,  -1.00027924e+03,\n",
    "#     2.30767533e-01,   4.87363160e-01,   2.03288451e-01,   4.77576464e-01]])\n",
    "# np.argmax(qval)\n",
    "\n",
    "model.summary()"
   ]
  }
 ],
 "metadata": {
  "kernelspec": {
   "display_name": "Python 2",
   "language": "python",
   "name": "python2"
  },
  "language_info": {
   "codemirror_mode": {
    "name": "ipython",
    "version": 2
   },
   "file_extension": ".py",
   "mimetype": "text/x-python",
   "name": "python",
   "nbconvert_exporter": "python",
   "pygments_lexer": "ipython2",
   "version": "2.7.10"
  }
 },
 "nbformat": 4,
 "nbformat_minor": 0
}
