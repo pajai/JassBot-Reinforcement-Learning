{
 "cells": [
  {
   "cell_type": "code",
   "execution_count": 13,
   "metadata": {
    "collapsed": false
   },
   "outputs": [
    {
     "name": "stdout",
     "output_type": "stream",
     "text": [
      "The autoreload extension is already loaded. To reload it, use:\n",
      "  %reload_ext autoreload\n"
     ]
    }
   ],
   "source": [
    "%load_ext autoreload\n",
    "%autoreload 2\n",
    "\n",
    "import random\n",
    "import numpy as np\n",
    "import pandas as pd\n",
    "import IPython.display as dp\n",
    "\n",
    "from jassbot.Config import *\n",
    "from jassbot.GameLogic import *\n",
    "from jassbot.GameStrategy import *\n",
    "\n",
    "create_logger()\n",
    "\n",
    "model = create_model()\n",
    "stats = pd.DataFrame({'rounds won':[], 'games won':[]})\n",
    "\n",
    "%matplotlib inline"
   ]
  },
  {
   "cell_type": "code",
   "execution_count": null,
   "metadata": {
    "collapsed": true
   },
   "outputs": [],
   "source": [
    "state = init()\n",
    "new_game(state)\n",
    "print_state(state)\n",
    "while len(state['played']) < 36:\n",
    "    play_round(state)\n",
    "print_state(state)"
   ]
  },
  {
   "cell_type": "code",
   "execution_count": null,
   "metadata": {
    "collapsed": true
   },
   "outputs": [],
   "source": [
    "state = init()\n",
    "new_game(state)\n",
    "print_state(state)\n",
    "play_round(state, lambda cards: random.choice(cards))\n",
    "play_round(state, lambda cards: random.choice(cards))\n",
    "print_state(state)"
   ]
  },
  {
   "cell_type": "code",
   "execution_count": 27,
   "metadata": {
    "collapsed": false,
    "scrolled": true
   },
   "outputs": [
    {
     "name": "stdout",
     "output_type": "stream",
     "text": [
      "*** learning phase 1 / 2\n",
      "*** testing phase 1 / 2\n"
     ]
    },
    {
     "data": {
      "text/html": [
       "<div>\n",
       "<table border=\"1\" class=\"dataframe\">\n",
       "  <thead>\n",
       "    <tr style=\"text-align: right;\">\n",
       "      <th></th>\n",
       "      <th>games won</th>\n",
       "      <th>ratio</th>\n",
       "      <th>rounds won</th>\n",
       "    </tr>\n",
       "  </thead>\n",
       "  <tbody>\n",
       "    <tr>\n",
       "      <th>0</th>\n",
       "      <td>0.47</td>\n",
       "      <td>0.47</td>\n",
       "      <td>0.5075</td>\n",
       "    </tr>\n",
       "  </tbody>\n",
       "</table>\n",
       "</div>"
      ],
      "text/plain": [
       "   games won  ratio  rounds won\n",
       "0       0.47   0.47      0.5075"
      ]
     },
     "metadata": {},
     "output_type": "display_data"
    },
    {
     "name": "stdout",
     "output_type": "stream",
     "text": [
      "*** learning phase 2 / 2\n",
      "*** testing phase 2 / 2\n"
     ]
    },
    {
     "data": {
      "text/html": [
       "<div>\n",
       "<table border=\"1\" class=\"dataframe\">\n",
       "  <thead>\n",
       "    <tr style=\"text-align: right;\">\n",
       "      <th></th>\n",
       "      <th>games won</th>\n",
       "      <th>ratio</th>\n",
       "      <th>rounds won</th>\n",
       "    </tr>\n",
       "  </thead>\n",
       "  <tbody>\n",
       "    <tr>\n",
       "      <th>1</th>\n",
       "      <td>0.51</td>\n",
       "      <td>0.51</td>\n",
       "      <td>0.5175</td>\n",
       "    </tr>\n",
       "  </tbody>\n",
       "</table>\n",
       "</div>"
      ],
      "text/plain": [
       "   games won  ratio  rounds won\n",
       "1       0.51   0.51      0.5175"
      ]
     },
     "metadata": {},
     "output_type": "display_data"
    },
    {
     "data": {
      "text/html": [
       "<div>\n",
       "<table border=\"1\" class=\"dataframe\">\n",
       "  <thead>\n",
       "    <tr style=\"text-align: right;\">\n",
       "      <th></th>\n",
       "      <th>games won</th>\n",
       "      <th>ratio</th>\n",
       "      <th>rounds won</th>\n",
       "    </tr>\n",
       "  </thead>\n",
       "  <tbody>\n",
       "    <tr>\n",
       "      <th>0</th>\n",
       "      <td>0.45</td>\n",
       "      <td>0.45</td>\n",
       "      <td>0.50375</td>\n",
       "    </tr>\n",
       "    <tr>\n",
       "      <th>1</th>\n",
       "      <td>0.46</td>\n",
       "      <td>0.46</td>\n",
       "      <td>0.50875</td>\n",
       "    </tr>\n",
       "    <tr>\n",
       "      <th>0</th>\n",
       "      <td>0.47</td>\n",
       "      <td>0.47</td>\n",
       "      <td>0.50750</td>\n",
       "    </tr>\n",
       "    <tr>\n",
       "      <th>1</th>\n",
       "      <td>0.51</td>\n",
       "      <td>0.51</td>\n",
       "      <td>0.51750</td>\n",
       "    </tr>\n",
       "  </tbody>\n",
       "</table>\n",
       "</div>"
      ],
      "text/plain": [
       "   games won  ratio  rounds won\n",
       "0       0.45   0.45     0.50375\n",
       "1       0.46   0.46     0.50875\n",
       "0       0.47   0.47     0.50750\n",
       "1       0.51   0.51     0.51750"
      ]
     },
     "execution_count": 27,
     "metadata": {},
     "output_type": "execute_result"
    }
   ],
   "source": [
    "state = init()\n",
    "epsilon = 1\n",
    "epochs = 100\n",
    "\n",
    "test_runs = 100\n",
    "\n",
    "simulations = 2\n",
    "logger = get_logger()\n",
    "\n",
    "for s in range(simulations):\n",
    "\n",
    "    temp_memory = []\n",
    "    round_wins = []\n",
    "    print('*** learning phase %i / %i' % (s+1, simulations))\n",
    "    for epoch in range(epochs):\n",
    "        new_game(state)\n",
    "        logger.info(\"*** start of a new game\")\n",
    "        print_state(state)\n",
    "\n",
    "        for j in range(9):\n",
    "            for i in range(4):\n",
    "                result = play_once(state, lambda (possible_cards): \\\n",
    "                          choose(state,possible_cards,model,temp_memory,epsilon))\n",
    "\n",
    "                assert i < 3 and result is None or \\\n",
    "                       i == 3 and result is not None\n",
    "\n",
    "                if i == 3: # at the end of one round\n",
    "\n",
    "                    round_wins.append(result)\n",
    "\n",
    "                    if len(state['played']) == 36: \n",
    "\n",
    "                        # the game is finished, we can update the model\n",
    "                        update_model_game_end(model,temp_memory,round_wins,epsilon)\n",
    "\n",
    "    game_wins = pd.DataFrame({'game won':[]})\n",
    "    round_wins = pd.DataFrame({'round won':[]})\n",
    "\n",
    "    print('*** testing phase %i / %i' % (s+1, simulations))\n",
    "    game_wins_idx = 0\n",
    "    round_wins_idx = 0\n",
    "    for epoch in range(test_runs):\n",
    "        new_game(state)\n",
    "        logger.info(\"*** start of a new game\")\n",
    "        print_state(state)\n",
    "\n",
    "        for j in range(4*9):\n",
    "            result = play_once(state, lambda (possible_cards): \\\n",
    "                      choose_for_test(state,possible_cards,model,temp_memory,epsilon))\n",
    "\n",
    "            if result is not None:\n",
    "                team = result['team']\n",
    "                is_final = result['final']\n",
    "\n",
    "                if is_final:\n",
    "                    ratio = result['ratio']\n",
    "                    df = pd.DataFrame({'game won':[1 if team == 0 else 0], 'ratio': [ratio]}, index=[game_wins_idx])\n",
    "                    game_wins = game_wins.append(df)\n",
    "                    game_wins_idx += 1\n",
    "                else:\n",
    "                    df = pd.DataFrame({'round won':[1 if team == 0 else 0]}, index=[round_wins_idx])\n",
    "                    round_wins = round_wins.append(df)\n",
    "                    round_wins_idx += 1\n",
    "\n",
    "\n",
    "    games_won = 1.0 * len(game_wins[game_wins['game won'] == 1]) / test_runs\n",
    "    ratio = game_wins['ratio'].mean()\n",
    "\n",
    "    # we have 8 rounds, excepted the final one that we don't count here\n",
    "    rounds_won = 1.0 * len(round_wins[round_wins['round won'] == 1]) / (test_runs * 8)\n",
    "    \n",
    "    df = pd.DataFrame({'rounds won':[rounds_won], 'games won':[games_won], 'ratio':[ratio]},index=[s])\n",
    "    dp.display(df)\n",
    "    stats = stats.append(df)\n",
    "    \n",
    "    if epsilon > 0.1:\n",
    "        epsilon -= (1/simulations)\n",
    "\n",
    "stats"
   ]
  },
  {
   "cell_type": "code",
   "execution_count": 23,
   "metadata": {
    "collapsed": false
   },
   "outputs": [
    {
     "name": "stdout",
     "output_type": "stream",
     "text": [
      "____________________________________________________________________________________________________\n",
      "Layer (type)                     Output Shape          Param #     Connected to                     \n",
      "====================================================================================================\n",
      "dense_7 (Dense)                  (None, 220)           24420       dense_input_3[0][0]              \n",
      "____________________________________________________________________________________________________\n",
      "activation_7 (Activation)        (None, 220)           0           dense_7[0][0]                    \n",
      "____________________________________________________________________________________________________\n",
      "dense_8 (Dense)                  (None, 300)           66300       activation_7[0][0]               \n",
      "____________________________________________________________________________________________________\n",
      "activation_8 (Activation)        (None, 300)           0           dense_8[0][0]                    \n",
      "____________________________________________________________________________________________________\n",
      "dense_9 (Dense)                  (None, 36)            10836       activation_8[0][0]               \n",
      "____________________________________________________________________________________________________\n",
      "activation_9 (Activation)        (None, 36)            0           dense_9[0][0]                    \n",
      "====================================================================================================\n",
      "Total params: 101556\n",
      "____________________________________________________________________________________________________\n"
     ]
    },
    {
     "data": {
      "text/plain": [
       "0.5422166666666666"
      ]
     },
     "execution_count": 23,
     "metadata": {},
     "output_type": "execute_result"
    },
    {
     "data": {
      "image/png": "[encoded data removed]",
      "text/plain": [
       "<matplotlib.figure.Figure at 0x10aa88a90>"
      ]
     },
     "metadata": {},
     "output_type": "display_data"
    }
   ],
   "source": [
    "model.summary()\n",
    "#stats.astype(float)\n",
    "\n",
    "games_won = [0.470,\n",
    "0.550,\n",
    "0.600,\n",
    "0.553,\n",
    "0.540,\n",
    "0.520,\n",
    "0.620,\n",
    "0.530,\n",
    "0.560,\n",
    "0.600,\n",
    "0.550,\n",
    "0.610,\n",
    "0.640,\n",
    "0.580,\n",
    "0.650,\n",
    "0.430,\n",
    "0.540,\n",
    "0.530,\n",
    "0.590,\n",
    "0.560,\n",
    "0.590,\n",
    "0.620,\n",
    "0.550,\n",
    "0.560,\n",
    "0.440,\n",
    "0.510,\n",
    "0.340,\n",
    "0.450,\n",
    "0.600,\n",
    "0.530,\n",
    "0.440,\n",
    "0.560,\n",
    "0.530,\n",
    "0.540,\n",
    "0.470,\n",
    "0.460,\n",
    "0.530,\n",
    "0.520,\n",
    "0.460,\n",
    "0.540,\n",
    "0.550,\n",
    "0.530,\n",
    "0.550,\n",
    "0.690,\n",
    "0.560,\n",
    "0.480,\n",
    "0.550,\n",
    "0.520,\n",
    "0.580,\n",
    "0.520,\n",
    "0.540,\n",
    "0.530,\n",
    "0.560,\n",
    "0.520,\n",
    "0.540,\n",
    "0.580,\n",
    "0.590,\n",
    "0.510,\n",
    "0.540,\n",
    "0.630]\n",
    "\n",
    "rounds_won = [\n",
    "0.426250,\n",
    "0.498750,\n",
    "0.518000,\n",
    "0.491125,\n",
    "0.496625,\n",
    "0.528750,\n",
    "0.543750,\n",
    "0.508750,\n",
    "0.541250,\n",
    "0.507500,\n",
    "0.493750,\n",
    "0.491250,\n",
    "0.500000,\n",
    "0.513750,\n",
    "0.543750,\n",
    "0.512500,\n",
    "0.497500,\n",
    "0.508750,\n",
    "0.526250,\n",
    "0.531250,\n",
    "0.521250,\n",
    "0.515000,\n",
    "0.510000,\n",
    "0.482500,\n",
    "0.473750,\n",
    "0.473750,\n",
    "0.415000,\n",
    "0.445000,\n",
    "0.463750,\n",
    "0.462500,\n",
    "0.443750,\n",
    "0.478750,\n",
    "0.453750,\n",
    "0.471250,\n",
    "0.431250,\n",
    "0.450000,\n",
    "0.466250,\n",
    "0.471250,\n",
    "0.451250,\n",
    "0.468750,\n",
    "0.476250,\n",
    "0.455000,\n",
    "0.458750,\n",
    "0.491250,\n",
    "0.471250,\n",
    "0.458750,\n",
    "0.471250,\n",
    "0.503750,\n",
    "0.482500,\n",
    "0.473750,\n",
    "0.475000,\n",
    "0.507500,\n",
    "0.496250,\n",
    "0.481250,\n",
    "0.507500,\n",
    "0.501250,\n",
    "0.476250,\n",
    "0.467500,\n",
    "0.453750,\n",
    "0.491250\n",
    "]\n",
    "\n",
    "df = pd.DataFrame({'games': games_won, 'round': rounds_won}, index=range(len(games_won)))\n",
    "df.plot()\n",
    "\n",
    "df['games'].mean()"
   ]
  }
 ],
 "metadata": {
  "kernelspec": {
   "display_name": "Python 2",
   "language": "python",
   "name": "python2"
  },
  "language_info": {
   "codemirror_mode": {
    "name": "ipython",
    "version": 2
   },
   "file_extension": ".py",
   "mimetype": "text/x-python",
   "name": "python",
   "nbconvert_exporter": "python",
   "pygments_lexer": "ipython2",
   "version": "2.7.10"
  }
 },
 "nbformat": 4,
 "nbformat_minor": 0
}
