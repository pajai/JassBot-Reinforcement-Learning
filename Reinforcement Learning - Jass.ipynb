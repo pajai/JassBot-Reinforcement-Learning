{
 "cells": [
  {
   "cell_type": "markdown",
   "metadata": {},
   "source": [
    "# Reinforcement Learning for Jass Card Game\n",
    "\n",
    "First some imports and defining some constants."
   ]
  },
  {
   "cell_type": "code",
   "execution_count": 1,
   "metadata": {},
   "outputs": [
    {
     "name": "stderr",
     "output_type": "stream",
     "text": [
      "Using Theano backend.\n"
     ]
    }
   ],
   "source": [
    "%load_ext autoreload\n",
    "%autoreload 2\n",
    "\n",
    "import random\n",
    "import numpy as np\n",
    "import pandas as pd\n",
    "import IPython.display as dp\n",
    "\n",
    "from jassbot.Config import *\n",
    "from jassbot.GameLogic import *\n",
    "from jassbot.GameStrategy import *\n",
    "from jassbot.Chrono import *\n",
    "from jassbot.utils.Logger import *\n",
    "\n",
    "%matplotlib inline\n",
    "\n",
    "nb_simulations = 50\n",
    "nb_epochs = 1000\n",
    "nb_test_runs = 1000"
   ]
  },
  {
   "cell_type": "markdown",
   "metadata": {},
   "source": [
    "## Initialize the model"
   ]
  },
  {
   "cell_type": "code",
   "execution_count": 2,
   "metadata": {},
   "outputs": [],
   "source": [
    "model = create_model()\n",
    "epsilon = 1"
   ]
  },
  {
   "cell_type": "markdown",
   "metadata": {},
   "source": [
    "## Train the model"
   ]
  },
  {
   "cell_type": "code",
   "execution_count": 3,
   "metadata": {},
   "outputs": [
    {
     "name": "stdout",
     "output_type": "stream",
     "text": [
      "*** learning phase 1 / 50 (eps: 1.000)\n",
      "learning time: 258,256 ms (1)\n",
      "*** testing phase 1 / 50\n",
      "testing time: 17,207 ms (1)\n"
     ]
    },
    {
     "data": {
      "text/html": [
       "<div>\n",
       "<table border=\"1\" class=\"dataframe\">\n",
       "  <thead>\n",
       "    <tr style=\"text-align: right;\">\n",
       "      <th></th>\n",
       "      <th>games won</th>\n",
       "      <th>ratio</th>\n",
       "      <th>rounds won</th>\n",
       "    </tr>\n",
       "  </thead>\n",
       "  <tbody>\n",
       "    <tr>\n",
       "      <th>0</th>\n",
       "      <td>0.53</td>\n",
       "      <td>0.512108</td>\n",
       "      <td>0.517125</td>\n",
       "    </tr>\n",
       "  </tbody>\n",
       "</table>\n",
       "</div>"
      ]
     },
     "output_type": "execute_result",
     "metadata": {}
    },
    {
     "name": "stdout",
     "output_type": "stream",
     "text": [
      "*** learning phase 2 / 50 (eps: 0.980)\n",
      "learning time: 322,381 ms (1)\n",
      "*** testing phase 2 / 50\n",
      "testing time: 17,340 ms (1)\n"
     ]
    },
    {
     "data": {
      "text/html": [
       "<div>\n",
       "<table border=\"1\" class=\"dataframe\">\n",
       "  <thead>\n",
       "    <tr style=\"text-align: right;\">\n",
       "      <th></th>\n",
       "      <th>games won</th>\n",
       "      <th>ratio</th>\n",
       "      <th>rounds won</th>\n",
       "    </tr>\n",
       "  </thead>\n",
       "  <tbody>\n",
       "    <tr>\n",
       "      <th>1</th>\n",
       "      <td>0.502</td>\n",
       "      <td>0.500299</td>\n",
       "      <td>0.516</td>\n",
       "    </tr>\n",
       "  </tbody>\n",
       "</table>\n",
       "</div>"
      ]
     },
     "output_type": "execute_result",
     "metadata": {}
    },
    {
     "name": "stdout",
     "output_type": "stream",
     "text": [
      "*** learning phase 3 / 50 (eps: 0.960)\n",
      "learning time: 325,390 ms (1)\n",
      "*** testing phase 3 / 50\n",
      "testing time: 17,051 ms (1)\n"
     ]
    },
    {
     "data": {
      "text/html": [
       "<div>\n",
       "<table border=\"1\" class=\"dataframe\">\n",
       "  <thead>\n",
       "    <tr style=\"text-align: right;\">\n",
       "      <th></th>\n",
       "      <th>games won</th>\n",
       "      <th>ratio</th>\n",
       "      <th>rounds won</th>\n",
       "    </tr>\n",
       "  </thead>\n",
       "  <tbody>\n",
       "    <tr>\n",
       "      <th>2</th>\n",
       "      <td>0.49</td>\n",
       "      <td>0.501102</td>\n",
       "      <td>0.519375</td>\n",
       "    </tr>\n",
       "  </tbody>\n",
       "</table>\n",
       "</div>"
      ]
     },
     "output_type": "execute_result",
     "metadata": {}
    },
    {
     "name": "stdout",
     "output_type": "stream",
     "text": [
      "*** learning phase 4 / 50 (eps: 0.940)\n",
      "learning time: 311,716 ms (1)\n",
      "*** testing phase 4 / 50\n",
      "testing time: 17,137 ms (1)\n"
     ]
    },
    {
     "data": {
      "text/html": [
       "<div>\n",
       "<table border=\"1\" class=\"dataframe\">\n",
       "  <thead>\n",
       "    <tr style=\"text-align: right;\">\n",
       "      <th></th>\n",
       "      <th>games won</th>\n",
       "      <th>ratio</th>\n",
       "      <th>rounds won</th>\n",
       "    </tr>\n",
       "  </thead>\n",
       "  <tbody>\n",
       "    <tr>\n",
       "      <th>3</th>\n",
       "      <td>0.524</td>\n",
       "      <td>0.509981</td>\n",
       "      <td>0.531</td>\n",
       "    </tr>\n",
       "  </tbody>\n",
       "</table>\n",
       "</div>"
      ]
     },
     "output_type": "execute_result",
     "metadata": {}
    },
    {
     "name": "stdout",
     "output_type": "stream",
     "text": [
      "*** learning phase 5 / 50 (eps: 0.920)\n",
      "learning time: 323,395 ms (1)\n",
      "*** testing phase 5 / 50\n",
      "testing time: 17,209 ms (1)\n"
     ]
    },
    {
     "data": {
      "text/html": [
       "<div>\n",
       "<table border=\"1\" class=\"dataframe\">\n",
       "  <thead>\n",
       "    <tr style=\"text-align: right;\">\n",
       "      <th></th>\n",
       "      <th>games won</th>\n",
       "      <th>ratio</th>\n",
       "      <th>rounds won</th>\n",
       "    </tr>\n",
       "  </thead>\n",
       "  <tbody>\n",
       "    <tr>\n",
       "      <th>4</th>\n",
       "      <td>0.513</td>\n",
       "      <td>0.499414</td>\n",
       "      <td>0.50175</td>\n",
       "    </tr>\n",
       "  </tbody>\n",
       "</table>\n",
       "</div>"
      ]
     },
     "output_type": "execute_result",
     "metadata": {}
    },
    {
     "name": "stdout",
     "output_type": "stream",
     "text": [
      "*** learning phase 6 / 50 (eps: 0.900)\n",
      "learning time: 335,149 ms (1)\n",
      "*** testing phase 6 / 50\n",
      "testing time: 17,205 ms (1)\n"
     ]
    },
    {
     "data": {
      "text/html": [
       "<div>\n",
       "<table border=\"1\" class=\"dataframe\">\n",
       "  <thead>\n",
       "    <tr style=\"text-align: right;\">\n",
       "      <th></th>\n",
       "      <th>games won</th>\n",
       "      <th>ratio</th>\n",
       "      <th>rounds won</th>\n",
       "    </tr>\n",
       "  </thead>\n",
       "  <tbody>\n",
       "    <tr>\n",
       "      <th>5</th>\n",
       "      <td>0.473</td>\n",
       "      <td>0.491274</td>\n",
       "      <td>0.510875</td>\n",
       "    </tr>\n",
       "  </tbody>\n",
       "</table>\n",
       "</div>"
      ]
     },
     "output_type": "execute_result",
     "metadata": {}
    },
    {
     "name": "stdout",
     "output_type": "stream",
     "text": [
      "*** learning phase 7 / 50 (eps: 0.880)\n",
      "learning time: 350,821 ms (1)\n",
      "*** testing phase 7 / 50\n",
      "testing time: 17,138 ms (1)\n"
     ]
    },
    {
     "data": {
      "text/html": [
       "<div>\n",
       "<table border=\"1\" class=\"dataframe\">\n",
       "  <thead>\n",
       "    <tr style=\"text-align: right;\">\n",
       "      <th></th>\n",
       "      <th>games won</th>\n",
       "      <th>ratio</th>\n",
       "      <th>rounds won</th>\n",
       "    </tr>\n",
       "  </thead>\n",
       "  <tbody>\n",
       "    <tr>\n",
       "      <th>6</th>\n",
       "      <td>0.521</td>\n",
       "      <td>0.506064</td>\n",
       "      <td>0.528625</td>\n",
       "    </tr>\n",
       "  </tbody>\n",
       "</table>\n",
       "</div>"
      ]
     },
     "output_type": "execute_result",
     "metadata": {}
    },
    {
     "name": "stdout",
     "output_type": "stream",
     "text": [
      "*** learning phase 8 / 50 (eps: 0.860)\n",
      "learning time: 355,418 ms (1)\n",
      "*** testing phase 8 / 50\n",
      "testing time: 17,304 ms (1)\n"
     ]
    },
    {
     "data": {
      "text/html": [
       "<div>\n",
       "<table border=\"1\" class=\"dataframe\">\n",
       "  <thead>\n",
       "    <tr style=\"text-align: right;\">\n",
       "      <th></th>\n",
       "      <th>games won</th>\n",
       "      <th>ratio</th>\n",
       "      <th>rounds won</th>\n",
       "    </tr>\n",
       "  </thead>\n",
       "  <tbody>\n",
       "    <tr>\n",
       "      <th>7</th>\n",
       "      <td>0.495</td>\n",
       "      <td>0.508127</td>\n",
       "      <td>0.520875</td>\n",
       "    </tr>\n",
       "  </tbody>\n",
       "</table>\n",
       "</div>"
      ]
     },
     "output_type": "execute_result",
     "metadata": {}
    },
    {
     "name": "stdout",
     "output_type": "stream",
     "text": [
      "*** learning phase 9 / 50 (eps: 0.840)\n",
      "learning time: 351,239 ms (1)\n",
      "*** testing phase 9 / 50\n",
      "testing time: 17,110 ms (1)\n"
     ]
    },
    {
     "data": {
      "text/html": [
       "<div>\n",
       "<table border=\"1\" class=\"dataframe\">\n",
       "  <thead>\n",
       "    <tr style=\"text-align: right;\">\n",
       "      <th></th>\n",
       "      <th>games won</th>\n",
       "      <th>ratio</th>\n",
       "      <th>rounds won</th>\n",
       "    </tr>\n",
       "  </thead>\n",
       "  <tbody>\n",
       "    <tr>\n",
       "      <th>8</th>\n",
       "      <td>0.443</td>\n",
       "      <td>0.475841</td>\n",
       "      <td>0.495625</td>\n",
       "    </tr>\n",
       "  </tbody>\n",
       "</table>\n",
       "</div>"
      ]
     },
     "output_type": "execute_result",
     "metadata": {}
    },
    {
     "name": "stdout",
     "output_type": "stream",
     "text": [
      "*** learning phase 10 / 50 (eps: 0.820)\n",
      "learning time: 357,886 ms (1)\n",
      "*** testing phase 10 / 50\n",
      "testing time: 19,937 ms (1)\n"
     ]
    },
    {
     "data": {
      "text/html": [
       "<div>\n",
       "<table border=\"1\" class=\"dataframe\">\n",
       "  <thead>\n",
       "    <tr style=\"text-align: right;\">\n",
       "      <th></th>\n",
       "      <th>games won</th>\n",
       "      <th>ratio</th>\n",
       "      <th>rounds won</th>\n",
       "    </tr>\n",
       "  </thead>\n",
       "  <tbody>\n",
       "    <tr>\n",
       "      <th>9</th>\n",
       "      <td>0.482</td>\n",
       "      <td>0.498248</td>\n",
       "      <td>0.497</td>\n",
       "    </tr>\n",
       "  </tbody>\n",
       "</table>\n",
       "</div>"
      ]
     },
     "output_type": "execute_result",
     "metadata": {}
    },
    {
     "name": "stdout",
     "output_type": "stream",
     "text": [
      "*** learning phase 11 / 50 (eps: 0.800)\n",
      "learning time: 362,403 ms (1)\n",
      "*** testing phase 11 / 50\n",
      "testing time: 18,796 ms (1)\n"
     ]
    },
    {
     "data": {
      "text/html": [
       "<div>\n",
       "<table border=\"1\" class=\"dataframe\">\n",
       "  <thead>\n",
       "    <tr style=\"text-align: right;\">\n",
       "      <th></th>\n",
       "      <th>games won</th>\n",
       "      <th>ratio</th>\n",
       "      <th>rounds won</th>\n",
       "    </tr>\n",
       "  </thead>\n",
       "  <tbody>\n",
       "    <tr>\n",
       "      <th>10</th>\n",
       "      <td>0.504</td>\n",
       "      <td>0.502459</td>\n",
       "      <td>0.478</td>\n",
       "    </tr>\n",
       "  </tbody>\n",
       "</table>\n",
       "</div>"
      ]
     },
     "output_type": "execute_result",
     "metadata": {}
    },
    {
     "name": "stdout",
     "output_type": "stream",
     "text": [
      "*** learning phase 12 / 50 (eps: 0.780)\n",
      "learning time: 370,533 ms (1)\n",
      "*** testing phase 12 / 50\n",
      "testing time: 19,233 ms (1)\n"
     ]
    },
    {
     "data": {
      "text/html": [
       "<div>\n",
       "<table border=\"1\" class=\"dataframe\">\n",
       "  <thead>\n",
       "    <tr style=\"text-align: right;\">\n",
       "      <th></th>\n",
       "      <th>games won</th>\n",
       "      <th>ratio</th>\n",
       "      <th>rounds won</th>\n",
       "    </tr>\n",
       "  </thead>\n",
       "  <tbody>\n",
       "    <tr>\n",
       "      <th>11</th>\n",
       "      <td>0.516</td>\n",
       "      <td>0.505191</td>\n",
       "      <td>0.4805</td>\n",
       "    </tr>\n",
       "  </tbody>\n",
       "</table>\n",
       "</div>"
      ]
     },
     "output_type": "execute_result",
     "metadata": {}
    },
    {
     "name": "stdout",
     "output_type": "stream",
     "text": [
      "*** learning phase 13 / 50 (eps: 0.760)\n",
      "learning time: 371,545 ms (1)\n",
      "*** testing phase 13 / 50\n",
      "testing time: 18,780 ms (1)\n"
     ]
    },
    {
     "data": {
      "text/html": [
       "<div>\n",
       "<table border=\"1\" class=\"dataframe\">\n",
       "  <thead>\n",
       "    <tr style=\"text-align: right;\">\n",
       "      <th></th>\n",
       "      <th>games won</th>\n",
       "      <th>ratio</th>\n",
       "      <th>rounds won</th>\n",
       "    </tr>\n",
       "  </thead>\n",
       "  <tbody>\n",
       "    <tr>\n",
       "      <th>12</th>\n",
       "      <td>0.462</td>\n",
       "      <td>0.478981</td>\n",
       "      <td>0.469125</td>\n",
       "    </tr>\n",
       "  </tbody>\n",
       "</table>\n",
       "</div>"
      ]
     },
     "output_type": "execute_result",
     "metadata": {}
    },
    {
     "name": "stdout",
     "output_type": "stream",
     "text": [
      "*** learning phase 14 / 50 (eps: 0.740)\n",
      "learning time: 372,019 ms (1)\n",
      "*** testing phase 14 / 50\n",
      "testing time: 18,896 ms (1)\n"
     ]
    },
    {
     "data": {
      "text/html": [
       "<div>\n",
       "<table border=\"1\" class=\"dataframe\">\n",
       "  <thead>\n",
       "    <tr style=\"text-align: right;\">\n",
       "      <th></th>\n",
       "      <th>games won</th>\n",
       "      <th>ratio</th>\n",
       "      <th>rounds won</th>\n",
       "    </tr>\n",
       "  </thead>\n",
       "  <tbody>\n",
       "    <tr>\n",
       "      <th>13</th>\n",
       "      <td>0.483</td>\n",
       "      <td>0.493987</td>\n",
       "      <td>0.49225</td>\n",
       "    </tr>\n",
       "  </tbody>\n",
       "</table>\n",
       "</div>"
      ]
     },
     "output_type": "execute_result",
     "metadata": {}
    },
    {
     "name": "stdout",
     "output_type": "stream",
     "text": [
      "*** learning phase 15 / 50 (eps: 0.720)\n",
      "learning time: 371,004 ms (1)\n",
      "*** testing phase 15 / 50\n",
      "testing time: 19,171 ms (1)\n"
     ]
    },
    {
     "data": {
      "text/html": [
       "<div>\n",
       "<table border=\"1\" class=\"dataframe\">\n",
       "  <thead>\n",
       "    <tr style=\"text-align: right;\">\n",
       "      <th></th>\n",
       "      <th>games won</th>\n",
       "      <th>ratio</th>\n",
       "      <th>rounds won</th>\n",
       "    </tr>\n",
       "  </thead>\n",
       "  <tbody>\n",
       "    <tr>\n",
       "      <th>14</th>\n",
       "      <td>0.539</td>\n",
       "      <td>0.528484</td>\n",
       "      <td>0.520125</td>\n",
       "    </tr>\n",
       "  </tbody>\n",
       "</table>\n",
       "</div>"
      ]
     },
     "output_type": "execute_result",
     "metadata": {}
    },
    {
     "name": "stdout",
     "output_type": "stream",
     "text": [
      "*** learning phase 16 / 50 (eps: 0.700)\n",
      "learning time: 371,573 ms (1)\n",
      "*** testing phase 16 / 50\n",
      "testing time: 18,883 ms (1)\n"
     ]
    },
    {
     "data": {
      "text/html": [
       "<div>\n",
       "<table border=\"1\" class=\"dataframe\">\n",
       "  <thead>\n",
       "    <tr style=\"text-align: right;\">\n",
       "      <th></th>\n",
       "      <th>games won</th>\n",
       "      <th>ratio</th>\n",
       "      <th>rounds won</th>\n",
       "    </tr>\n",
       "  </thead>\n",
       "  <tbody>\n",
       "    <tr>\n",
       "      <th>15</th>\n",
       "      <td>0.524</td>\n",
       "      <td>0.509261</td>\n",
       "      <td>0.51325</td>\n",
       "    </tr>\n",
       "  </tbody>\n",
       "</table>\n",
       "</div>"
      ]
     },
     "output_type": "execute_result",
     "metadata": {}
    },
    {
     "name": "stdout",
     "output_type": "stream",
     "text": [
      "*** learning phase 17 / 50 (eps: 0.680)\n",
      "learning time: 371,967 ms (1)\n",
      "*** testing phase 17 / 50\n",
      "testing time: 18,870 ms (1)\n"
     ]
    },
    {
     "data": {
      "text/html": [
       "<div>\n",
       "<table border=\"1\" class=\"dataframe\">\n",
       "  <thead>\n",
       "    <tr style=\"text-align: right;\">\n",
       "      <th></th>\n",
       "      <th>games won</th>\n",
       "      <th>ratio</th>\n",
       "      <th>rounds won</th>\n",
       "    </tr>\n",
       "  </thead>\n",
       "  <tbody>\n",
       "    <tr>\n",
       "      <th>16</th>\n",
       "      <td>0.492</td>\n",
       "      <td>0.496561</td>\n",
       "      <td>0.50125</td>\n",
       "    </tr>\n",
       "  </tbody>\n",
       "</table>\n",
       "</div>"
      ]
     },
     "output_type": "execute_result",
     "metadata": {}
    },
    {
     "name": "stdout",
     "output_type": "stream",
     "text": [
      "*** learning phase 18 / 50 (eps: 0.660)\n",
      "learning time: 371,893 ms (1)\n",
      "*** testing phase 18 / 50\n",
      "testing time: 18,888 ms (1)\n"
     ]
    },
    {
     "data": {
      "text/html": [
       "<div>\n",
       "<table border=\"1\" class=\"dataframe\">\n",
       "  <thead>\n",
       "    <tr style=\"text-align: right;\">\n",
       "      <th></th>\n",
       "      <th>games won</th>\n",
       "      <th>ratio</th>\n",
       "      <th>rounds won</th>\n",
       "    </tr>\n",
       "  </thead>\n",
       "  <tbody>\n",
       "    <tr>\n",
       "      <th>17</th>\n",
       "      <td>0.487</td>\n",
       "      <td>0.496051</td>\n",
       "      <td>0.506</td>\n",
       "    </tr>\n",
       "  </tbody>\n",
       "</table>\n",
       "</div>"
      ]
     },
     "output_type": "execute_result",
     "metadata": {}
    },
    {
     "name": "stdout",
     "output_type": "stream",
     "text": [
      "*** learning phase 19 / 50 (eps: 0.640)\n",
      "learning time: 373,295 ms (1)\n",
      "*** testing phase 19 / 50\n",
      "testing time: 18,957 ms (1)\n"
     ]
    },
    {
     "data": {
      "text/html": [
       "<div>\n",
       "<table border=\"1\" class=\"dataframe\">\n",
       "  <thead>\n",
       "    <tr style=\"text-align: right;\">\n",
       "      <th></th>\n",
       "      <th>games won</th>\n",
       "      <th>ratio</th>\n",
       "      <th>rounds won</th>\n",
       "    </tr>\n",
       "  </thead>\n",
       "  <tbody>\n",
       "    <tr>\n",
       "      <th>18</th>\n",
       "      <td>0.501</td>\n",
       "      <td>0.506338</td>\n",
       "      <td>0.506375</td>\n",
       "    </tr>\n",
       "  </tbody>\n",
       "</table>\n",
       "</div>"
      ]
     },
     "output_type": "execute_result",
     "metadata": {}
    },
    {
     "name": "stdout",
     "output_type": "stream",
     "text": [
      "*** learning phase 20 / 50 (eps: 0.620)\n",
      "learning time: 372,969 ms (1)\n",
      "*** testing phase 20 / 50\n",
      "testing time: 19,317 ms (1)\n"
     ]
    },
    {
     "data": {
      "text/html": [
       "<div>\n",
       "<table border=\"1\" class=\"dataframe\">\n",
       "  <thead>\n",
       "    <tr style=\"text-align: right;\">\n",
       "      <th></th>\n",
       "      <th>games won</th>\n",
       "      <th>ratio</th>\n",
       "      <th>rounds won</th>\n",
       "    </tr>\n",
       "  </thead>\n",
       "  <tbody>\n",
       "    <tr>\n",
       "      <th>19</th>\n",
       "      <td>0.47</td>\n",
       "      <td>0.485522</td>\n",
       "      <td>0.50825</td>\n",
       "    </tr>\n",
       "  </tbody>\n",
       "</table>\n",
       "</div>"
      ]
     },
     "output_type": "execute_result",
     "metadata": {}
    },
    {
     "name": "stdout",
     "output_type": "stream",
     "text": [
      "*** learning phase 21 / 50 (eps: 0.600)\n",
      "learning time: 372,055 ms (1)\n",
      "*** testing phase 21 / 50\n",
      "testing time: 18,932 ms (1)\n"
     ]
    },
    {
     "data": {
      "text/html": [
       "<div>\n",
       "<table border=\"1\" class=\"dataframe\">\n",
       "  <thead>\n",
       "    <tr style=\"text-align: right;\">\n",
       "      <th></th>\n",
       "      <th>games won</th>\n",
       "      <th>ratio</th>\n",
       "      <th>rounds won</th>\n",
       "    </tr>\n",
       "  </thead>\n",
       "  <tbody>\n",
       "    <tr>\n",
       "      <th>20</th>\n",
       "      <td>0.553</td>\n",
       "      <td>0.528401</td>\n",
       "      <td>0.531875</td>\n",
       "    </tr>\n",
       "  </tbody>\n",
       "</table>\n",
       "</div>"
      ]
     },
     "output_type": "execute_result",
     "metadata": {}
    },
    {
     "name": "stdout",
     "output_type": "stream",
     "text": [
      "*** learning phase 22 / 50 (eps: 0.580)\n",
      "learning time: 372,752 ms (1)\n",
      "*** testing phase 22 / 50\n",
      "testing time: 18,880 ms (1)\n"
     ]
    },
    {
     "data": {
      "text/html": [
       "<div>\n",
       "<table border=\"1\" class=\"dataframe\">\n",
       "  <thead>\n",
       "    <tr style=\"text-align: right;\">\n",
       "      <th></th>\n",
       "      <th>games won</th>\n",
       "      <th>ratio</th>\n",
       "      <th>rounds won</th>\n",
       "    </tr>\n",
       "  </thead>\n",
       "  <tbody>\n",
       "    <tr>\n",
       "      <th>21</th>\n",
       "      <td>0.51</td>\n",
       "      <td>0.508822</td>\n",
       "      <td>0.518</td>\n",
       "    </tr>\n",
       "  </tbody>\n",
       "</table>\n",
       "</div>"
      ]
     },
     "output_type": "execute_result",
     "metadata": {}
    },
    {
     "name": "stdout",
     "output_type": "stream",
     "text": [
      "*** learning phase 23 / 50 (eps: 0.560)\n",
      "learning time: 372,023 ms (1)\n",
      "*** testing phase 23 / 50\n",
      "testing time: 19,026 ms (1)\n"
     ]
    },
    {
     "data": {
      "text/html": [
       "<div>\n",
       "<table border=\"1\" class=\"dataframe\">\n",
       "  <thead>\n",
       "    <tr style=\"text-align: right;\">\n",
       "      <th></th>\n",
       "      <th>games won</th>\n",
       "      <th>ratio</th>\n",
       "      <th>rounds won</th>\n",
       "    </tr>\n",
       "  </thead>\n",
       "  <tbody>\n",
       "    <tr>\n",
       "      <th>22</th>\n",
       "      <td>0.507</td>\n",
       "      <td>0.502561</td>\n",
       "      <td>0.50275</td>\n",
       "    </tr>\n",
       "  </tbody>\n",
       "</table>\n",
       "</div>"
      ]
     },
     "output_type": "execute_result",
     "metadata": {}
    },
    {
     "name": "stdout",
     "output_type": "stream",
     "text": [
      "*** learning phase 24 / 50 (eps: 0.540)\n",
      "learning time: 372,752 ms (1)\n",
      "*** testing phase 24 / 50\n",
      "testing time: 18,859 ms (1)\n"
     ]
    },
    {
     "data": {
      "text/html": [
       "<div>\n",
       "<table border=\"1\" class=\"dataframe\">\n",
       "  <thead>\n",
       "    <tr style=\"text-align: right;\">\n",
       "      <th></th>\n",
       "      <th>games won</th>\n",
       "      <th>ratio</th>\n",
       "      <th>rounds won</th>\n",
       "    </tr>\n",
       "  </thead>\n",
       "  <tbody>\n",
       "    <tr>\n",
       "      <th>23</th>\n",
       "      <td>0.504</td>\n",
       "      <td>0.497885</td>\n",
       "      <td>0.510875</td>\n",
       "    </tr>\n",
       "  </tbody>\n",
       "</table>\n",
       "</div>"
      ]
     },
     "output_type": "execute_result",
     "metadata": {}
    },
    {
     "name": "stdout",
     "output_type": "stream",
     "text": [
      "*** learning phase 25 / 50 (eps: 0.520)\n",
      "learning time: 372,985 ms (1)\n",
      "*** testing phase 25 / 50\n",
      "testing time: 18,877 ms (1)\n"
     ]
    },
    {
     "data": {
      "text/html": [
       "<div>\n",
       "<table border=\"1\" class=\"dataframe\">\n",
       "  <thead>\n",
       "    <tr style=\"text-align: right;\">\n",
       "      <th></th>\n",
       "      <th>games won</th>\n",
       "      <th>ratio</th>\n",
       "      <th>rounds won</th>\n",
       "    </tr>\n",
       "  </thead>\n",
       "  <tbody>\n",
       "    <tr>\n",
       "      <th>24</th>\n",
       "      <td>0.493</td>\n",
       "      <td>0.499866</td>\n",
       "      <td>0.4875</td>\n",
       "    </tr>\n",
       "  </tbody>\n",
       "</table>\n",
       "</div>"
      ]
     },
     "output_type": "execute_result",
     "metadata": {}
    },
    {
     "name": "stdout",
     "output_type": "stream",
     "text": [
      "*** learning phase 26 / 50 (eps: 0.500)\n",
      "learning time: 372,157 ms (1)\n",
      "*** testing phase 26 / 50\n",
      "testing time: 18,931 ms (1)\n"
     ]
    },
    {
     "data": {
      "text/html": [
       "<div>\n",
       "<table border=\"1\" class=\"dataframe\">\n",
       "  <thead>\n",
       "    <tr style=\"text-align: right;\">\n",
       "      <th></th>\n",
       "      <th>games won</th>\n",
       "      <th>ratio</th>\n",
       "      <th>rounds won</th>\n",
       "    </tr>\n",
       "  </thead>\n",
       "  <tbody>\n",
       "    <tr>\n",
       "      <th>25</th>\n",
       "      <td>0.491</td>\n",
       "      <td>0.496924</td>\n",
       "      <td>0.50275</td>\n",
       "    </tr>\n",
       "  </tbody>\n",
       "</table>\n",
       "</div>"
      ]
     },
     "output_type": "execute_result",
     "metadata": {}
    },
    {
     "name": "stdout",
     "output_type": "stream",
     "text": [
      "*** learning phase 27 / 50 (eps: 0.480)\n",
      "learning time: 373,211 ms (1)\n",
      "*** testing phase 27 / 50\n",
      "testing time: 18,710 ms (1)\n"
     ]
    },
    {
     "data": {
      "text/html": [
       "<div>\n",
       "<table border=\"1\" class=\"dataframe\">\n",
       "  <thead>\n",
       "    <tr style=\"text-align: right;\">\n",
       "      <th></th>\n",
       "      <th>games won</th>\n",
       "      <th>ratio</th>\n",
       "      <th>rounds won</th>\n",
       "    </tr>\n",
       "  </thead>\n",
       "  <tbody>\n",
       "    <tr>\n",
       "      <th>26</th>\n",
       "      <td>0.518</td>\n",
       "      <td>0.50428</td>\n",
       "      <td>0.50875</td>\n",
       "    </tr>\n",
       "  </tbody>\n",
       "</table>\n",
       "</div>"
      ]
     },
     "output_type": "execute_result",
     "metadata": {}
    },
    {
     "name": "stdout",
     "output_type": "stream",
     "text": [
      "*** learning phase 28 / 50 (eps: 0.460)\n",
      "learning time: 373,404 ms (1)\n",
      "*** testing phase 28 / 50\n",
      "testing time: 18,695 ms (1)\n"
     ]
    },
    {
     "data": {
      "text/html": [
       "<div>\n",
       "<table border=\"1\" class=\"dataframe\">\n",
       "  <thead>\n",
       "    <tr style=\"text-align: right;\">\n",
       "      <th></th>\n",
       "      <th>games won</th>\n",
       "      <th>ratio</th>\n",
       "      <th>rounds won</th>\n",
       "    </tr>\n",
       "  </thead>\n",
       "  <tbody>\n",
       "    <tr>\n",
       "      <th>27</th>\n",
       "      <td>0.542</td>\n",
       "      <td>0.525669</td>\n",
       "      <td>0.5</td>\n",
       "    </tr>\n",
       "  </tbody>\n",
       "</table>\n",
       "</div>"
      ]
     },
     "output_type": "execute_result",
     "metadata": {}
    },
    {
     "name": "stdout",
     "output_type": "stream",
     "text": [
      "*** learning phase 29 / 50 (eps: 0.440)\n",
      "learning time: 372,205 ms (1)\n",
      "*** testing phase 29 / 50\n",
      "testing time: 18,719 ms (1)\n"
     ]
    },
    {
     "data": {
      "text/html": [
       "<div>\n",
       "<table border=\"1\" class=\"dataframe\">\n",
       "  <thead>\n",
       "    <tr style=\"text-align: right;\">\n",
       "      <th></th>\n",
       "      <th>games won</th>\n",
       "      <th>ratio</th>\n",
       "      <th>rounds won</th>\n",
       "    </tr>\n",
       "  </thead>\n",
       "  <tbody>\n",
       "    <tr>\n",
       "      <th>28</th>\n",
       "      <td>0.474</td>\n",
       "      <td>0.483497</td>\n",
       "      <td>0.456625</td>\n",
       "    </tr>\n",
       "  </tbody>\n",
       "</table>\n",
       "</div>"
      ]
     },
     "output_type": "execute_result",
     "metadata": {}
    },
    {
     "name": "stdout",
     "output_type": "stream",
     "text": [
      "*** learning phase 30 / 50 (eps: 0.420)\n",
      "learning time: 373,084 ms (1)\n",
      "*** testing phase 30 / 50\n",
      "testing time: 18,735 ms (1)\n"
     ]
    },
    {
     "data": {
      "text/html": [
       "<div>\n",
       "<table border=\"1\" class=\"dataframe\">\n",
       "  <thead>\n",
       "    <tr style=\"text-align: right;\">\n",
       "      <th></th>\n",
       "      <th>games won</th>\n",
       "      <th>ratio</th>\n",
       "      <th>rounds won</th>\n",
       "    </tr>\n",
       "  </thead>\n",
       "  <tbody>\n",
       "    <tr>\n",
       "      <th>29</th>\n",
       "      <td>0.532</td>\n",
       "      <td>0.518631</td>\n",
       "      <td>0.513</td>\n",
       "    </tr>\n",
       "  </tbody>\n",
       "</table>\n",
       "</div>"
      ]
     },
     "output_type": "execute_result",
     "metadata": {}
    },
    {
     "name": "stdout",
     "output_type": "stream",
     "text": [
      "*** learning phase 31 / 50 (eps: 0.400)\n",
      "learning time: 372,899 ms (1)\n",
      "*** testing phase 31 / 50\n",
      "testing time: 19,134 ms (1)\n"
     ]
    },
    {
     "data": {
      "text/html": [
       "<div>\n",
       "<table border=\"1\" class=\"dataframe\">\n",
       "  <thead>\n",
       "    <tr style=\"text-align: right;\">\n",
       "      <th></th>\n",
       "      <th>games won</th>\n",
       "      <th>ratio</th>\n",
       "      <th>rounds won</th>\n",
       "    </tr>\n",
       "  </thead>\n",
       "  <tbody>\n",
       "    <tr>\n",
       "      <th>30</th>\n",
       "      <td>0.541</td>\n",
       "      <td>0.514414</td>\n",
       "      <td>0.475</td>\n",
       "    </tr>\n",
       "  </tbody>\n",
       "</table>\n",
       "</div>"
      ]
     },
     "output_type": "execute_result",
     "metadata": {}
    },
    {
     "name": "stdout",
     "output_type": "stream",
     "text": [
      "*** learning phase 32 / 50 (eps: 0.380)\n",
      "learning time: 372,681 ms (1)\n",
      "*** testing phase 32 / 50\n",
      "testing time: 18,817 ms (1)\n"
     ]
    },
    {
     "data": {
      "text/html": [
       "<div>\n",
       "<table border=\"1\" class=\"dataframe\">\n",
       "  <thead>\n",
       "    <tr style=\"text-align: right;\">\n",
       "      <th></th>\n",
       "      <th>games won</th>\n",
       "      <th>ratio</th>\n",
       "      <th>rounds won</th>\n",
       "    </tr>\n",
       "  </thead>\n",
       "  <tbody>\n",
       "    <tr>\n",
       "      <th>31</th>\n",
       "      <td>0.541</td>\n",
       "      <td>0.525739</td>\n",
       "      <td>0.501875</td>\n",
       "    </tr>\n",
       "  </tbody>\n",
       "</table>\n",
       "</div>"
      ]
     },
     "output_type": "execute_result",
     "metadata": {}
    },
    {
     "name": "stdout",
     "output_type": "stream",
     "text": [
      "*** learning phase 33 / 50 (eps: 0.360)\n",
      "learning time: 373,203 ms (1)\n",
      "*** testing phase 33 / 50\n",
      "testing time: 18,897 ms (1)\n"
     ]
    },
    {
     "data": {
      "text/html": [
       "<div>\n",
       "<table border=\"1\" class=\"dataframe\">\n",
       "  <thead>\n",
       "    <tr style=\"text-align: right;\">\n",
       "      <th></th>\n",
       "      <th>games won</th>\n",
       "      <th>ratio</th>\n",
       "      <th>rounds won</th>\n",
       "    </tr>\n",
       "  </thead>\n",
       "  <tbody>\n",
       "    <tr>\n",
       "      <th>32</th>\n",
       "      <td>0.53</td>\n",
       "      <td>0.50286</td>\n",
       "      <td>0.475</td>\n",
       "    </tr>\n",
       "  </tbody>\n",
       "</table>\n",
       "</div>"
      ]
     },
     "output_type": "execute_result",
     "metadata": {}
    },
    {
     "name": "stdout",
     "output_type": "stream",
     "text": [
      "*** learning phase 34 / 50 (eps: 0.340)\n",
      "learning time: 372,507 ms (1)\n",
      "*** testing phase 34 / 50\n",
      "testing time: 19,206 ms (1)\n"
     ]
    },
    {
     "data": {
      "text/html": [
       "<div>\n",
       "<table border=\"1\" class=\"dataframe\">\n",
       "  <thead>\n",
       "    <tr style=\"text-align: right;\">\n",
       "      <th></th>\n",
       "      <th>games won</th>\n",
       "      <th>ratio</th>\n",
       "      <th>rounds won</th>\n",
       "    </tr>\n",
       "  </thead>\n",
       "  <tbody>\n",
       "    <tr>\n",
       "      <th>33</th>\n",
       "      <td>0.535</td>\n",
       "      <td>0.511936</td>\n",
       "      <td>0.479125</td>\n",
       "    </tr>\n",
       "  </tbody>\n",
       "</table>\n",
       "</div>"
      ]
     },
     "output_type": "execute_result",
     "metadata": {}
    },
    {
     "name": "stdout",
     "output_type": "stream",
     "text": [
      "*** learning phase 35 / 50 (eps: 0.320)\n",
      "learning time: 370,214 ms (1)\n",
      "*** testing phase 35 / 50\n",
      "testing time: 18,911 ms (1)\n"
     ]
    },
    {
     "data": {
      "text/html": [
       "<div>\n",
       "<table border=\"1\" class=\"dataframe\">\n",
       "  <thead>\n",
       "    <tr style=\"text-align: right;\">\n",
       "      <th></th>\n",
       "      <th>games won</th>\n",
       "      <th>ratio</th>\n",
       "      <th>rounds won</th>\n",
       "    </tr>\n",
       "  </thead>\n",
       "  <tbody>\n",
       "    <tr>\n",
       "      <th>34</th>\n",
       "      <td>0.557</td>\n",
       "      <td>0.529153</td>\n",
       "      <td>0.518625</td>\n",
       "    </tr>\n",
       "  </tbody>\n",
       "</table>\n",
       "</div>"
      ]
     },
     "output_type": "execute_result",
     "metadata": {}
    },
    {
     "name": "stdout",
     "output_type": "stream",
     "text": [
      "*** learning phase 36 / 50 (eps: 0.300)\n",
      "learning time: 369,766 ms (1)\n",
      "*** testing phase 36 / 50\n",
      "testing time: 18,993 ms (1)\n"
     ]
    },
    {
     "data": {
      "text/html": [
       "<div>\n",
       "<table border=\"1\" class=\"dataframe\">\n",
       "  <thead>\n",
       "    <tr style=\"text-align: right;\">\n",
       "      <th></th>\n",
       "      <th>games won</th>\n",
       "      <th>ratio</th>\n",
       "      <th>rounds won</th>\n",
       "    </tr>\n",
       "  </thead>\n",
       "  <tbody>\n",
       "    <tr>\n",
       "      <th>35</th>\n",
       "      <td>0.506</td>\n",
       "      <td>0.506535</td>\n",
       "      <td>0.4945</td>\n",
       "    </tr>\n",
       "  </tbody>\n",
       "</table>\n",
       "</div>"
      ]
     },
     "output_type": "execute_result",
     "metadata": {}
    },
    {
     "name": "stdout",
     "output_type": "stream",
     "text": [
      "*** learning phase 37 / 50 (eps: 0.280)\n",
      "learning time: 366,616 ms (1)\n",
      "*** testing phase 37 / 50\n",
      "testing time: 18,871 ms (1)\n"
     ]
    },
    {
     "data": {
      "text/html": [
       "<div>\n",
       "<table border=\"1\" class=\"dataframe\">\n",
       "  <thead>\n",
       "    <tr style=\"text-align: right;\">\n",
       "      <th></th>\n",
       "      <th>games won</th>\n",
       "      <th>ratio</th>\n",
       "      <th>rounds won</th>\n",
       "    </tr>\n",
       "  </thead>\n",
       "  <tbody>\n",
       "    <tr>\n",
       "      <th>36</th>\n",
       "      <td>0.534</td>\n",
       "      <td>0.518924</td>\n",
       "      <td>0.50925</td>\n",
       "    </tr>\n",
       "  </tbody>\n",
       "</table>\n",
       "</div>"
      ]
     },
     "output_type": "execute_result",
     "metadata": {}
    },
    {
     "name": "stdout",
     "output_type": "stream",
     "text": [
      "*** learning phase 38 / 50 (eps: 0.260)\n",
      "learning time: 364,387 ms (1)\n",
      "*** testing phase 38 / 50\n",
      "testing time: 18,766 ms (1)\n"
     ]
    },
    {
     "data": {
      "text/html": [
       "<div>\n",
       "<table border=\"1\" class=\"dataframe\">\n",
       "  <thead>\n",
       "    <tr style=\"text-align: right;\">\n",
       "      <th></th>\n",
       "      <th>games won</th>\n",
       "      <th>ratio</th>\n",
       "      <th>rounds won</th>\n",
       "    </tr>\n",
       "  </thead>\n",
       "  <tbody>\n",
       "    <tr>\n",
       "      <th>37</th>\n",
       "      <td>0.473</td>\n",
       "      <td>0.490159</td>\n",
       "      <td>0.50275</td>\n",
       "    </tr>\n",
       "  </tbody>\n",
       "</table>\n",
       "</div>"
      ]
     },
     "output_type": "execute_result",
     "metadata": {}
    },
    {
     "name": "stdout",
     "output_type": "stream",
     "text": [
      "*** learning phase 39 / 50 (eps: 0.240)\n",
      "learning time: 366,974 ms (1)\n",
      "*** testing phase 39 / 50\n",
      "testing time: 19,219 ms (1)\n"
     ]
    },
    {
     "data": {
      "text/html": [
       "<div>\n",
       "<table border=\"1\" class=\"dataframe\">\n",
       "  <thead>\n",
       "    <tr style=\"text-align: right;\">\n",
       "      <th></th>\n",
       "      <th>games won</th>\n",
       "      <th>ratio</th>\n",
       "      <th>rounds won</th>\n",
       "    </tr>\n",
       "  </thead>\n",
       "  <tbody>\n",
       "    <tr>\n",
       "      <th>38</th>\n",
       "      <td>0.495</td>\n",
       "      <td>0.498452</td>\n",
       "      <td>0.513375</td>\n",
       "    </tr>\n",
       "  </tbody>\n",
       "</table>\n",
       "</div>"
      ]
     },
     "output_type": "execute_result",
     "metadata": {}
    },
    {
     "name": "stdout",
     "output_type": "stream",
     "text": [
      "*** learning phase 40 / 50 (eps: 0.220)\n",
      "learning time: 371,145 ms (1)\n",
      "*** testing phase 40 / 50\n",
      "testing time: 18,782 ms (1)\n"
     ]
    },
    {
     "data": {
      "text/html": [
       "<div>\n",
       "<table border=\"1\" class=\"dataframe\">\n",
       "  <thead>\n",
       "    <tr style=\"text-align: right;\">\n",
       "      <th></th>\n",
       "      <th>games won</th>\n",
       "      <th>ratio</th>\n",
       "      <th>rounds won</th>\n",
       "    </tr>\n",
       "  </thead>\n",
       "  <tbody>\n",
       "    <tr>\n",
       "      <th>39</th>\n",
       "      <td>0.512</td>\n",
       "      <td>0.505414</td>\n",
       "      <td>0.500375</td>\n",
       "    </tr>\n",
       "  </tbody>\n",
       "</table>\n",
       "</div>"
      ]
     },
     "output_type": "execute_result",
     "metadata": {}
    },
    {
     "name": "stdout",
     "output_type": "stream",
     "text": [
      "*** learning phase 41 / 50 (eps: 0.200)\n",
      "learning time: 368,543 ms (1)\n",
      "*** testing phase 41 / 50\n",
      "testing time: 18,939 ms (1)\n"
     ]
    },
    {
     "data": {
      "text/html": [
       "<div>\n",
       "<table border=\"1\" class=\"dataframe\">\n",
       "  <thead>\n",
       "    <tr style=\"text-align: right;\">\n",
       "      <th></th>\n",
       "      <th>games won</th>\n",
       "      <th>ratio</th>\n",
       "      <th>rounds won</th>\n",
       "    </tr>\n",
       "  </thead>\n",
       "  <tbody>\n",
       "    <tr>\n",
       "      <th>40</th>\n",
       "      <td>0.502</td>\n",
       "      <td>0.505191</td>\n",
       "      <td>0.504875</td>\n",
       "    </tr>\n",
       "  </tbody>\n",
       "</table>\n",
       "</div>"
      ]
     },
     "output_type": "execute_result",
     "metadata": {}
    },
    {
     "name": "stdout",
     "output_type": "stream",
     "text": [
      "*** learning phase 42 / 50 (eps: 0.180)\n",
      "learning time: 369,275 ms (1)\n",
      "*** testing phase 42 / 50\n",
      "testing time: 18,977 ms (1)\n"
     ]
    },
    {
     "data": {
      "text/html": [
       "<div>\n",
       "<table border=\"1\" class=\"dataframe\">\n",
       "  <thead>\n",
       "    <tr style=\"text-align: right;\">\n",
       "      <th></th>\n",
       "      <th>games won</th>\n",
       "      <th>ratio</th>\n",
       "      <th>rounds won</th>\n",
       "    </tr>\n",
       "  </thead>\n",
       "  <tbody>\n",
       "    <tr>\n",
       "      <th>41</th>\n",
       "      <td>0.49</td>\n",
       "      <td>0.497962</td>\n",
       "      <td>0.490875</td>\n",
       "    </tr>\n",
       "  </tbody>\n",
       "</table>\n",
       "</div>"
      ]
     },
     "output_type": "execute_result",
     "metadata": {}
    },
    {
     "name": "stdout",
     "output_type": "stream",
     "text": [
      "*** learning phase 43 / 50 (eps: 0.160)\n",
      "learning time: 373,331 ms (1)\n",
      "*** testing phase 43 / 50\n",
      "testing time: 18,962 ms (1)\n"
     ]
    },
    {
     "data": {
      "text/html": [
       "<div>\n",
       "<table border=\"1\" class=\"dataframe\">\n",
       "  <thead>\n",
       "    <tr style=\"text-align: right;\">\n",
       "      <th></th>\n",
       "      <th>games won</th>\n",
       "      <th>ratio</th>\n",
       "      <th>rounds won</th>\n",
       "    </tr>\n",
       "  </thead>\n",
       "  <tbody>\n",
       "    <tr>\n",
       "      <th>42</th>\n",
       "      <td>0.498</td>\n",
       "      <td>0.496758</td>\n",
       "      <td>0.466125</td>\n",
       "    </tr>\n",
       "  </tbody>\n",
       "</table>\n",
       "</div>"
      ]
     },
     "output_type": "execute_result",
     "metadata": {}
    },
    {
     "name": "stdout",
     "output_type": "stream",
     "text": [
      "*** learning phase 44 / 50 (eps: 0.140)\n",
      "learning time: 366,958 ms (1)\n",
      "*** testing phase 44 / 50\n",
      "testing time: 19,291 ms (1)\n"
     ]
    },
    {
     "data": {
      "text/html": [
       "<div>\n",
       "<table border=\"1\" class=\"dataframe\">\n",
       "  <thead>\n",
       "    <tr style=\"text-align: right;\">\n",
       "      <th></th>\n",
       "      <th>games won</th>\n",
       "      <th>ratio</th>\n",
       "      <th>rounds won</th>\n",
       "    </tr>\n",
       "  </thead>\n",
       "  <tbody>\n",
       "    <tr>\n",
       "      <th>43</th>\n",
       "      <td>0.486</td>\n",
       "      <td>0.490541</td>\n",
       "      <td>0.495875</td>\n",
       "    </tr>\n",
       "  </tbody>\n",
       "</table>\n",
       "</div>"
      ]
     },
     "output_type": "execute_result",
     "metadata": {}
    },
    {
     "name": "stdout",
     "output_type": "stream",
     "text": [
      "*** learning phase 45 / 50 (eps: 0.120)\n",
      "learning time: 367,435 ms (1)\n",
      "*** testing phase 45 / 50\n",
      "testing time: 18,878 ms (1)\n"
     ]
    },
    {
     "data": {
      "text/html": [
       "<div>\n",
       "<table border=\"1\" class=\"dataframe\">\n",
       "  <thead>\n",
       "    <tr style=\"text-align: right;\">\n",
       "      <th></th>\n",
       "      <th>games won</th>\n",
       "      <th>ratio</th>\n",
       "      <th>rounds won</th>\n",
       "    </tr>\n",
       "  </thead>\n",
       "  <tbody>\n",
       "    <tr>\n",
       "      <th>44</th>\n",
       "      <td>0.499</td>\n",
       "      <td>0.495834</td>\n",
       "      <td>0.51275</td>\n",
       "    </tr>\n",
       "  </tbody>\n",
       "</table>\n",
       "</div>"
      ]
     },
     "output_type": "execute_result",
     "metadata": {}
    },
    {
     "name": "stdout",
     "output_type": "stream",
     "text": [
      "*** learning phase 46 / 50 (eps: 0.100)\n",
      "learning time: 362,192 ms (1)\n",
      "*** testing phase 46 / 50\n",
      "testing time: 18,814 ms (1)\n"
     ]
    },
    {
     "data": {
      "text/html": [
       "<div>\n",
       "<table border=\"1\" class=\"dataframe\">\n",
       "  <thead>\n",
       "    <tr style=\"text-align: right;\">\n",
       "      <th></th>\n",
       "      <th>games won</th>\n",
       "      <th>ratio</th>\n",
       "      <th>rounds won</th>\n",
       "    </tr>\n",
       "  </thead>\n",
       "  <tbody>\n",
       "    <tr>\n",
       "      <th>45</th>\n",
       "      <td>0.438</td>\n",
       "      <td>0.470076</td>\n",
       "      <td>0.492375</td>\n",
       "    </tr>\n",
       "  </tbody>\n",
       "</table>\n",
       "</div>"
      ]
     },
     "output_type": "execute_result",
     "metadata": {}
    },
    {
     "name": "stdout",
     "output_type": "stream",
     "text": [
      "*** learning phase 47 / 50 (eps: 0.100)\n",
      "learning time: 364,365 ms (1)\n",
      "*** testing phase 47 / 50\n",
      "testing time: 18,806 ms (1)\n"
     ]
    },
    {
     "data": {
      "text/html": [
       "<div>\n",
       "<table border=\"1\" class=\"dataframe\">\n",
       "  <thead>\n",
       "    <tr style=\"text-align: right;\">\n",
       "      <th></th>\n",
       "      <th>games won</th>\n",
       "      <th>ratio</th>\n",
       "      <th>rounds won</th>\n",
       "    </tr>\n",
       "  </thead>\n",
       "  <tbody>\n",
       "    <tr>\n",
       "      <th>46</th>\n",
       "      <td>0.437</td>\n",
       "      <td>0.476924</td>\n",
       "      <td>0.49925</td>\n",
       "    </tr>\n",
       "  </tbody>\n",
       "</table>\n",
       "</div>"
      ]
     },
     "output_type": "execute_result",
     "metadata": {}
    },
    {
     "name": "stdout",
     "output_type": "stream",
     "text": [
      "*** learning phase 48 / 50 (eps: 0.100)\n",
      "learning time: 367,659 ms (1)\n",
      "*** testing phase 48 / 50\n",
      "testing time: 18,997 ms (1)\n"
     ]
    },
    {
     "data": {
      "text/html": [
       "<div>\n",
       "<table border=\"1\" class=\"dataframe\">\n",
       "  <thead>\n",
       "    <tr style=\"text-align: right;\">\n",
       "      <th></th>\n",
       "      <th>games won</th>\n",
       "      <th>ratio</th>\n",
       "      <th>rounds won</th>\n",
       "    </tr>\n",
       "  </thead>\n",
       "  <tbody>\n",
       "    <tr>\n",
       "      <th>47</th>\n",
       "      <td>0.511</td>\n",
       "      <td>0.501318</td>\n",
       "      <td>0.521875</td>\n",
       "    </tr>\n",
       "  </tbody>\n",
       "</table>\n",
       "</div>"
      ]
     },
     "output_type": "execute_result",
     "metadata": {}
    },
    {
     "name": "stdout",
     "output_type": "stream",
     "text": [
      "*** learning phase 49 / 50 (eps: 0.100)\n",
      "learning time: 366,682 ms (1)\n",
      "*** testing phase 49 / 50\n",
      "testing time: 19,135 ms (1)\n"
     ]
    },
    {
     "data": {
      "text/html": [
       "<div>\n",
       "<table border=\"1\" class=\"dataframe\">\n",
       "  <thead>\n",
       "    <tr style=\"text-align: right;\">\n",
       "      <th></th>\n",
       "      <th>games won</th>\n",
       "      <th>ratio</th>\n",
       "      <th>rounds won</th>\n",
       "    </tr>\n",
       "  </thead>\n",
       "  <tbody>\n",
       "    <tr>\n",
       "      <th>48</th>\n",
       "      <td>0.446</td>\n",
       "      <td>0.473261</td>\n",
       "      <td>0.502</td>\n",
       "    </tr>\n",
       "  </tbody>\n",
       "</table>\n",
       "</div>"
      ]
     },
     "output_type": "execute_result",
     "metadata": {}
    },
    {
     "name": "stdout",
     "output_type": "stream",
     "text": [
      "*** learning phase 50 / 50 (eps: 0.100)\n",
      "learning time: 365,549 ms (1)\n",
      "*** testing phase 50 / 50\n",
      "testing time: 18,898 ms (1)\n"
     ]
    },
    {
     "data": {
      "text/html": [
       "<div>\n",
       "<table border=\"1\" class=\"dataframe\">\n",
       "  <thead>\n",
       "    <tr style=\"text-align: right;\">\n",
       "      <th></th>\n",
       "      <th>games won</th>\n",
       "      <th>ratio</th>\n",
       "      <th>rounds won</th>\n",
       "    </tr>\n",
       "  </thead>\n",
       "  <tbody>\n",
       "    <tr>\n",
       "      <th>49</th>\n",
       "      <td>0.43</td>\n",
       "      <td>0.464605</td>\n",
       "      <td>0.492375</td>\n",
       "    </tr>\n",
       "  </tbody>\n",
       "</table>\n",
       "</div>"
      ]
     },
     "output_type": "execute_result",
     "metadata": {}
    }
   ],
   "source": [
    "state = init()\n",
    "\n",
    "stats = train_and_test(model, state, nb_simulations, nb_epochs, nb_test_runs, epsilon)\n",
    "\n",
    "#stats.to_csv('data/%s-stats.csv', now_as_string())"
   ]
  },
  {
   "cell_type": "markdown",
   "metadata": {},
   "source": [
    "## Visualize the result"
   ]
  },
  {
   "cell_type": "code",
   "execution_count": null,
   "metadata": {},
   "outputs": [],
   "source": [
    "stats"
   ]
  },
  {
   "cell_type": "markdown",
   "metadata": {},
   "source": [
    "## See how two bots are playing against two random bots"
   ]
  },
  {
   "cell_type": "code",
   "execution_count": null,
   "metadata": {},
   "outputs": [],
   "source": [
    "from jassbot.utils.Logger import *\n",
    "\n",
    "state = init()\n",
    "new_game(state)\n",
    "print_state(state)\n",
    "\n",
    "suit_orders = []\n",
    "for p in range(4):\n",
    "    player_hand = state['p%i_hand' % p]\n",
    "    trump = state['trump']\n",
    "    suit_order = order_suits(player_hand, trump)\n",
    "    suit_orders.append(suit_order)\n",
    "\n",
    "for j in range(9):\n",
    "    for i in range(4):\n",
    "        suit_order = suit_orders[i]\n",
    "    \n",
    "        play_once(state, lambda (possible_cards): \\\n",
    "                          choose_for_test(suit_order,state,possible_cards,model))\n",
    "\n",
    "print_state(state)"
   ]
  },
  {
   "cell_type": "markdown",
   "metadata": {},
   "source": [
    "## Save the trained model\n",
    "\n",
    "Including the weights."
   ]
  },
  {
   "cell_type": "code",
   "execution_count": null,
   "metadata": {},
   "outputs": [],
   "source": [
    "from jassbot.GameStrategy import *\n",
    "\n",
    "save_model(model, stats, \"first model which gets about 55% score against the random bot\")"
   ]
  },
  {
   "cell_type": "markdown",
   "metadata": {},
   "source": [
    "## Experiments"
   ]
  },
  {
   "cell_type": "code",
   "execution_count": null,
   "metadata": {},
   "outputs": [],
   "source": [
    "list(set([1,2,3]) - set([2,3]))\n",
    "\n",
    "def rank_order(i1,i2):\n",
    "    return i2['nb'] - i1['nb'] if i1['nb'] != i2['nb'] else i1['best_rank'] - i2['best_rank']\n",
    "\n",
    "\"abc\".startswith(\"ad\")\n",
    "sorted([{'nb': 1, 'best_rank':4}, {'nb': 2, 'best_rank': 2}], cmp=rank_order)\n",
    "\n",
    "stats['ratio'].plot()\n",
    "\n",
    "#print(\"some delta: %i \" % ((datetime.datetime.now() - chrono.start_times[0]).microseconds / 1000))\n",
    "\n",
    "\n",
    "chrono.stop(\"abc\")\n",
    "chrono.start()"
   ]
  }
 ],
 "metadata": {
  "kernelspec": {
   "display_name": "Python 2",
   "language": "python",
   "name": "python2"
  },
  "language_info": {
   "codemirror_mode": {
    "name": "ipython",
    "version": 2.0
   },
   "file_extension": ".py",
   "mimetype": "text/x-python",
   "name": "python",
   "nbconvert_exporter": "python",
   "pygments_lexer": "ipython2",
   "version": "2.7.10"
  }
 },
 "nbformat": 4,
 "nbformat_minor": 0
}