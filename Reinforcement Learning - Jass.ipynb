{
 "cells": [
  {
   "cell_type": "code",
   "execution_count": 4,
   "metadata": {
    "collapsed": false
   },
   "outputs": [
    {
     "name": "stdout",
     "output_type": "stream",
     "text": [
      "The autoreload extension is already loaded. To reload it, use:\n",
      "  %reload_ext autoreload\n"
     ]
    }
   ],
   "source": [
    "%load_ext autoreload\n",
    "%autoreload 2\n",
    "\n",
    "import random\n",
    "import numpy as np\n",
    "import pandas as pd\n",
    "import IPython.display as dp\n",
    "\n",
    "from jassbot.Config import *\n",
    "from jassbot.GameLogic import *\n",
    "from jassbot.GameStrategy import *\n",
    "from jassbot.Chrono import *\n",
    "from jassbot.utils.Logger import *\n",
    "\n",
    "%matplotlib inline\n",
    "\n",
    "simulations = 50\n",
    "epochs = 1000\n",
    "test_runs = 1000"
   ]
  },
  {
   "cell_type": "markdown",
   "metadata": {},
   "source": [
    "## Initialize the model"
   ]
  },
  {
   "cell_type": "code",
   "execution_count": 5,
   "metadata": {
    "collapsed": false
   },
   "outputs": [],
   "source": [
    "model = create_model()\n",
    "stats = pd.DataFrame({'rounds won':[], 'games won':[]})\n",
    "epsilon = 1"
   ]
  },
  {
   "cell_type": "code",
   "execution_count": null,
   "metadata": {
    "collapsed": false,
    "scrolled": false
   },
   "outputs": [
    {
     "name": "stdout",
     "output_type": "stream",
     "text": [
      "*** learning phase 1 / 50\n",
      "learning: 977 ms (1)\n",
      "learning time: 181089 ms\n",
      "*** testing phase 1 / 50\n",
      "test: 501 ms (1)\n"
     ]
    },
    {
     "data": {
      "text/html": [
       "<div>\n",
       "<table border=\"1\" class=\"dataframe\">\n",
       "  <thead>\n",
       "    <tr style=\"text-align: right;\">\n",
       "      <th></th>\n",
       "      <th>games won</th>\n",
       "      <th>ratio</th>\n",
       "      <th>rounds won</th>\n",
       "    </tr>\n",
       "  </thead>\n",
       "  <tbody>\n",
       "    <tr>\n",
       "      <th>0</th>\n",
       "      <td>0.467</td>\n",
       "      <td>0.480369</td>\n",
       "      <td>0.51575</td>\n",
       "    </tr>\n",
       "  </tbody>\n",
       "</table>\n",
       "</div>"
      ],
      "text/plain": [
       "   games won     ratio  rounds won\n",
       "0      0.467  0.480369     0.51575"
      ]
     },
     "metadata": {},
     "output_type": "display_data"
    }
   ],
   "source": [
    "state = init()\n",
    "\n",
    "chrono = Chrono()\n",
    "for s in range(simulations):\n",
    "\n",
    "    temp_memory = []\n",
    "    round_wins = []\n",
    "    print('*** learning phase %i / %i' % (s+1, simulations))\n",
    "    chrono.start()\n",
    "    learning_time = 0\n",
    "    for epoch in range(epochs):\n",
    "        new_game(state)\n",
    "        logger.info(\"*** start of a new game\")\n",
    "        print_state(state)\n",
    "\n",
    "        # we first define the suit order used later for the algorithm, for each player\n",
    "        # (depending on his hand and the current trump suit)\n",
    "        suit_orders = []\n",
    "        for p in range(4):\n",
    "            player_hand = state['p%i_hand' % p]\n",
    "            trump = state['trump']\n",
    "            suit_order = order_suits(player_hand, trump)\n",
    "            suit_orders.append(suit_order)\n",
    "\n",
    "        for j in range(9):\n",
    "            for i in range(4):\n",
    "                suit_order = suit_orders[i]\n",
    "                \n",
    "                #chrono.start()\n",
    "                result = play_once(state, lambda (possible_cards): \\\n",
    "                          choose(suit_order,state,possible_cards,model,temp_memory,epsilon))\n",
    "                #chrono.stop(\"choose\")\n",
    "\n",
    "                assert i < 3 and result is None or \\\n",
    "                       i == 3 and result is not None\n",
    "\n",
    "                if i == 3: # at the end of one round\n",
    "\n",
    "                    round_wins.append(result)\n",
    "\n",
    "                    if len(state['played']) == 36: \n",
    "\n",
    "                        # the game is finished, we can update the model\n",
    "                        chrono.start()\n",
    "                        update_model_game_end(model,temp_memory,round_wins,epsilon)\n",
    "                        learning_time += chrono.stop()\n",
    "\n",
    "    chrono.stop('learning')\n",
    "    print('learning time: %i ms' % learning_time)\n",
    "\n",
    "    game_wins = pd.DataFrame({'game won':[]})\n",
    "    round_wins = pd.DataFrame({'round won':[]})\n",
    "\n",
    "    print('*** testing phase %i / %i' % (s+1, simulations))\n",
    "    game_wins_idx = 0\n",
    "    round_wins_idx = 0\n",
    "    chrono.start()\n",
    "    for epoch in range(test_runs):\n",
    "        new_game(state)\n",
    "        logger.info(\"*** start of a new game\")\n",
    "        print_state(state)\n",
    "\n",
    "        suit_orders = []\n",
    "        for p in range(4):\n",
    "            player_hand = state['p%i_hand' % p]\n",
    "            trump = state['trump']\n",
    "            suit_order = order_suits(player_hand, trump)\n",
    "            suit_orders.append(suit_order)\n",
    "\n",
    "        for j in range(9):\n",
    "            for i in range(4):\n",
    "                suit_order = suit_orders[i]\n",
    "\n",
    "                result = play_once(state, lambda (possible_cards): \\\n",
    "                          choose_for_test(suit_order,state,possible_cards,model))\n",
    "\n",
    "                if result is not None:\n",
    "                    team = result['team']\n",
    "                    is_final = result['final']\n",
    "\n",
    "                    if is_final:\n",
    "                        ratio = result['ratio']\n",
    "                        df = pd.DataFrame({'game won':[1 if team == 0 else 0], 'ratio': [ratio]}, index=[game_wins_idx])\n",
    "                        game_wins = game_wins.append(df)\n",
    "                        game_wins_idx += 1\n",
    "                    else:\n",
    "                        df = pd.DataFrame({'round won':[1 if team == 0 else 0]}, index=[round_wins_idx])\n",
    "                        round_wins = round_wins.append(df)\n",
    "                        round_wins_idx += 1\n",
    "    chrono.stop('test')\n",
    "    \n",
    "    games_won = 1.0 * len(game_wins[game_wins['game won'] == 1]) / test_runs\n",
    "    ratio = game_wins['ratio'].mean()\n",
    "\n",
    "    # we have 8 rounds, excepted the final one that we don't count here\n",
    "    rounds_won = 1.0 * len(round_wins[round_wins['round won'] == 1]) / (test_runs * 8)\n",
    "    \n",
    "    df = pd.DataFrame({'rounds won':[rounds_won], 'games won':[games_won], 'ratio':[ratio]},index=[s])\n",
    "    dp.display(df)\n",
    "    stats = stats.append(df)\n",
    "    \n",
    "    if epsilon > 0.1:\n",
    "        epsilon -= (1/simulations)\n",
    "\n",
    "\n",
    "#stats.to_csv('data/%s-stats.csv', now_as_string())"
   ]
  },
  {
   "cell_type": "code",
   "execution_count": null,
   "metadata": {
    "collapsed": false
   },
   "outputs": [],
   "source": [
    "list(set([1,2,3]) - set([2,3]))\n",
    "\n",
    "def rank_order(i1,i2):\n",
    "    return i2['nb'] - i1['nb'] if i1['nb'] != i2['nb'] else i1['best_rank'] - i2['best_rank']\n",
    "\n",
    "\"abc\".startswith(\"ad\")\n",
    "sorted([{'nb': 1, 'best_rank':4}, {'nb': 2, 'best_rank': 2}], cmp=rank_order)\n",
    "\n",
    "#abc = []\n",
    "\n",
    "#stats.index = range(len(stats))\n",
    "#stats['ratio'].plot()\n",
    "# a = [{'nb': 3, 'best_rank':4}, {'nb': 3, 'best_rank': 2}]\n",
    "# print(a[0]['nb']*10+a[0]['best_rank'])\n",
    "# print(a[1]['nb']*10+a[1]['best_rank'])\n",
    "\n",
    "stats['ratio'].plot()"
   ]
  },
  {
   "cell_type": "code",
   "execution_count": null,
   "metadata": {
    "collapsed": false,
    "scrolled": false
   },
   "outputs": [],
   "source": [
    "game_wins = pd.DataFrame({'game won':[]})\n",
    "round_wins = pd.DataFrame({'round won':[]})\n",
    "\n",
    "game_wins_idx = 0\n",
    "round_wins_idx = 0\n",
    "chrono = Chrono()\n",
    "chrono.start()\n",
    "\n",
    "state = init()\n",
    "for epoch in range(test_runs):\n",
    "    logger.info(\"*** start of a new game\")\n",
    "\n",
    "    new_game(state)\n",
    "    print_state(state)\n",
    "\n",
    "    suit_orders = []\n",
    "    for p in range(4):\n",
    "        player_hand = state['p%i_hand' % p]\n",
    "        trump = state['trump']\n",
    "        suit_order = order_suits(player_hand, trump)\n",
    "        suit_orders.append(suit_order)\n",
    "\n",
    "    for j in range(9):\n",
    "        for i in range(4):\n",
    "            suit_order = suit_orders[i]\n",
    "\n",
    "            result = play_once(state, lambda (possible_cards): \\\n",
    "                      choose_for_test(suit_order,state,possible_cards,model,temp_memory,epsilon))\n",
    "\n",
    "            if result is not None:\n",
    "                team = result['team']\n",
    "                is_final = result['final']\n",
    "\n",
    "                if is_final:\n",
    "                    ratio = result['ratio']\n",
    "                    df = pd.DataFrame({'game won':[1 if team == 0 else 0], 'ratio': [ratio]}, index=[game_wins_idx])\n",
    "                    game_wins = game_wins.append(df)\n",
    "                    game_wins_idx += 1\n",
    "                else:\n",
    "                    df = pd.DataFrame({'round won':[1 if team == 0 else 0]}, index=[round_wins_idx])\n",
    "                    round_wins = round_wins.append(df)\n",
    "                    round_wins_idx += 1\n",
    "chrono.stop('test')\n",
    "\n",
    "games_won = 1.0 * len(game_wins[game_wins['game won'] == 1]) / test_runs\n",
    "ratio = game_wins['ratio'].mean()\n",
    "\n",
    "# we have 8 rounds, excepted the final one that we don't count here\n",
    "rounds_won = 1.0 * len(round_wins[round_wins['round won'] == 1]) / (test_runs * 8)\n",
    "\n",
    "df = pd.DataFrame({'rounds won':[rounds_won], 'games won':[games_won], 'ratio':[ratio]},index=[s])\n",
    "dp.display(df)"
   ]
  },
  {
   "cell_type": "code",
   "execution_count": null,
   "metadata": {
    "collapsed": false
   },
   "outputs": [],
   "source": [
    "from jassbot.utils.Logger import *\n",
    "\n",
    "logger.debug(\"123\")\n",
    "print(logger)\n",
    "logger.info('foo')\n",
    "\n",
    "#len(round_wins[round_wins['round won'] == 1])\n",
    "\n",
    "a = [1,2]\n",
    "b = a\n",
    "a += [3]\n",
    "\n",
    "stats.plot()"
   ]
  },
  {
   "cell_type": "code",
   "execution_count": null,
   "metadata": {
    "collapsed": true
   },
   "outputs": [],
   "source": [
    "5"
   ]
  },
  {
   "cell_type": "code",
   "execution_count": null,
   "metadata": {
    "collapsed": false
   },
   "outputs": [],
   "source": [
    "a = 1.1\n",
    "print('foobar %f' % a)"
   ]
  }
 ],
 "metadata": {
  "kernelspec": {
   "display_name": "Python 2",
   "language": "python",
   "name": "python2"
  },
  "language_info": {
   "codemirror_mode": {
    "name": "ipython",
    "version": 2
   },
   "file_extension": ".py",
   "mimetype": "text/x-python",
   "name": "python",
   "nbconvert_exporter": "python",
   "pygments_lexer": "ipython2",
   "version": "2.7.10"
  }
 },
 "nbformat": 4,
 "nbformat_minor": 0
}
