{
 "cells": [
  {
   "cell_type": "code",
   "execution_count": 1,
   "metadata": {},
   "outputs": [
    {
     "name": "stderr",
     "output_type": "stream",
     "text": [
      "Using Theano backend.\n"
     ]
    }
   ],
   "source": [
    "%load_ext autoreload\n",
    "%autoreload 2\n",
    "\n",
    "import random\n",
    "import numpy as np\n",
    "import pandas as pd\n",
    "import IPython.display as dp\n",
    "\n",
    "from jassbot.Config import *\n",
    "from jassbot.GameLogic import *\n",
    "from jassbot.GameStrategy import *\n",
    "from jassbot.Chrono import *\n",
    "from jassbot.utils.Logger import *\n",
    "\n",
    "%matplotlib inline\n",
    "\n",
    "simulations = 20\n",
    "epochs = 1000\n",
    "test_runs = 1000"
   ]
  },
  {
   "cell_type": "markdown",
   "metadata": {},
   "source": [
    "## Initialize the model"
   ]
  },
  {
   "cell_type": "code",
   "execution_count": 2,
   "metadata": {},
   "outputs": [],
   "source": [
    "model = create_model()\n",
    "stats = pd.DataFrame({'rounds won':[], 'games won':[]})\n",
    "epsilon = 1"
   ]
  },
  {
   "cell_type": "code",
   "execution_count": 3,
   "metadata": {},
   "outputs": [
    {
     "name": "stdout",
     "output_type": "stream",
     "text": [
      "*** learning phase 1 / 20\n",
      "learning: 952 ms (1)\n",
      "learning time: 182268 ms\n",
      "*** testing phase 1 / 20\n",
      "test: 367 ms (1)\n"
     ]
    },
    {
     "data": {
      "text/html": [
       "<div>\n",
       "<table border=\"1\" class=\"dataframe\">\n",
       "  <thead>\n",
       "    <tr style=\"text-align: right;\">\n",
       "      <th></th>\n",
       "      <th>games won</th>\n",
       "      <th>ratio</th>\n",
       "      <th>rounds won</th>\n",
       "    </tr>\n",
       "  </thead>\n",
       "  <tbody>\n",
       "    <tr>\n",
       "      <th>0</th>\n",
       "      <td>0.447</td>\n",
       "      <td>0.471293</td>\n",
       "      <td>0.507875</td>\n",
       "    </tr>\n",
       "  </tbody>\n",
       "</table>\n",
       "</div>"
      ]
     },
     "output_type": "execute_result",
     "metadata": {}
    },
    {
     "name": "stdout",
     "output_type": "stream",
     "text": [
      "*** learning phase 2 / 20\n",
      "learning: 993 ms (1)\n",
      "learning time: 254580 ms\n",
      "*** testing phase 2 / 20\n",
      "test: 289 ms (1)\n"
     ]
    },
    {
     "data": {
      "text/html": [
       "<div>\n",
       "<table border=\"1\" class=\"dataframe\">\n",
       "  <thead>\n",
       "    <tr style=\"text-align: right;\">\n",
       "      <th></th>\n",
       "      <th>games won</th>\n",
       "      <th>ratio</th>\n",
       "      <th>rounds won</th>\n",
       "    </tr>\n",
       "  </thead>\n",
       "  <tbody>\n",
       "    <tr>\n",
       "      <th>1</th>\n",
       "      <td>0.4</td>\n",
       "      <td>0.455204</td>\n",
       "      <td>0.487875</td>\n",
       "    </tr>\n",
       "  </tbody>\n",
       "</table>\n",
       "</div>"
      ]
     },
     "output_type": "execute_result",
     "metadata": {}
    },
    {
     "name": "stdout",
     "output_type": "stream",
     "text": [
      "*** learning phase 3 / 20\n",
      "learning: 720 ms (1)\n",
      "learning time: 278303 ms\n",
      "*** testing phase 3 / 20\n",
      "test: 129 ms (1)\n"
     ]
    },
    {
     "data": {
      "text/html": [
       "<div>\n",
       "<table border=\"1\" class=\"dataframe\">\n",
       "  <thead>\n",
       "    <tr style=\"text-align: right;\">\n",
       "      <th></th>\n",
       "      <th>games won</th>\n",
       "      <th>ratio</th>\n",
       "      <th>rounds won</th>\n",
       "    </tr>\n",
       "  </thead>\n",
       "  <tbody>\n",
       "    <tr>\n",
       "      <th>2</th>\n",
       "      <td>0.444</td>\n",
       "      <td>0.476656</td>\n",
       "      <td>0.515875</td>\n",
       "    </tr>\n",
       "  </tbody>\n",
       "</table>\n",
       "</div>"
      ]
     },
     "output_type": "execute_result",
     "metadata": {}
    },
    {
     "name": "stdout",
     "output_type": "stream",
     "text": [
      "*** learning phase 4 / 20\n",
      "learning: 766 ms (1)\n",
      "learning time: 278298 ms\n",
      "*** testing phase 4 / 20\n",
      "test: 58 ms (1)\n"
     ]
    },
    {
     "data": {
      "text/html": [
       "<div>\n",
       "<table border=\"1\" class=\"dataframe\">\n",
       "  <thead>\n",
       "    <tr style=\"text-align: right;\">\n",
       "      <th></th>\n",
       "      <th>games won</th>\n",
       "      <th>ratio</th>\n",
       "      <th>rounds won</th>\n",
       "    </tr>\n",
       "  </thead>\n",
       "  <tbody>\n",
       "    <tr>\n",
       "      <th>3</th>\n",
       "      <td>0.439</td>\n",
       "      <td>0.47442</td>\n",
       "      <td>0.50825</td>\n",
       "    </tr>\n",
       "  </tbody>\n",
       "</table>\n",
       "</div>"
      ]
     },
     "output_type": "execute_result",
     "metadata": {}
    },
    {
     "name": "stdout",
     "output_type": "stream",
     "text": [
      "*** learning phase 5 / 20\n",
      "learning: 760 ms (1)\n",
      "learning time: 272280 ms\n",
      "*** testing phase 5 / 20\n",
      "test: 194 ms (1)\n"
     ]
    },
    {
     "data": {
      "text/html": [
       "<div>\n",
       "<table border=\"1\" class=\"dataframe\">\n",
       "  <thead>\n",
       "    <tr style=\"text-align: right;\">\n",
       "      <th></th>\n",
       "      <th>games won</th>\n",
       "      <th>ratio</th>\n",
       "      <th>rounds won</th>\n",
       "    </tr>\n",
       "  </thead>\n",
       "  <tbody>\n",
       "    <tr>\n",
       "      <th>4</th>\n",
       "      <td>0.433</td>\n",
       "      <td>0.467102</td>\n",
       "      <td>0.50625</td>\n",
       "    </tr>\n",
       "  </tbody>\n",
       "</table>\n",
       "</div>"
      ]
     },
     "output_type": "execute_result",
     "metadata": {}
    },
    {
     "name": "stdout",
     "output_type": "stream",
     "text": [
      "*** learning phase 6 / 20\n",
      "learning: 938 ms (1)\n",
      "learning time: 271419 ms\n",
      "*** testing phase 6 / 20\n",
      "test: 83 ms (1)\n"
     ]
    },
    {
     "data": {
      "text/html": [
       "<div>\n",
       "<table border=\"1\" class=\"dataframe\">\n",
       "  <thead>\n",
       "    <tr style=\"text-align: right;\">\n",
       "      <th></th>\n",
       "      <th>games won</th>\n",
       "      <th>ratio</th>\n",
       "      <th>rounds won</th>\n",
       "    </tr>\n",
       "  </thead>\n",
       "  <tbody>\n",
       "    <tr>\n",
       "      <th>5</th>\n",
       "      <td>0.481</td>\n",
       "      <td>0.48593</td>\n",
       "      <td>0.518875</td>\n",
       "    </tr>\n",
       "  </tbody>\n",
       "</table>\n",
       "</div>"
      ]
     },
     "output_type": "execute_result",
     "metadata": {}
    },
    {
     "name": "stdout",
     "output_type": "stream",
     "text": [
      "*** learning phase 7 / 20\n",
      "learning: 206 ms (1)\n",
      "learning time: 283631 ms\n",
      "*** testing phase 7 / 20\n",
      "test: 191 ms (1)\n"
     ]
    },
    {
     "data": {
      "text/html": [
       "<div>\n",
       "<table border=\"1\" class=\"dataframe\">\n",
       "  <thead>\n",
       "    <tr style=\"text-align: right;\">\n",
       "      <th></th>\n",
       "      <th>games won</th>\n",
       "      <th>ratio</th>\n",
       "      <th>rounds won</th>\n",
       "    </tr>\n",
       "  </thead>\n",
       "  <tbody>\n",
       "    <tr>\n",
       "      <th>6</th>\n",
       "      <td>0.487</td>\n",
       "      <td>0.494586</td>\n",
       "      <td>0.53425</td>\n",
       "    </tr>\n",
       "  </tbody>\n",
       "</table>\n",
       "</div>"
      ]
     },
     "output_type": "execute_result",
     "metadata": {}
    },
    {
     "name": "stdout",
     "output_type": "stream",
     "text": [
      "*** learning phase 8 / 20\n",
      "learning: 869 ms (1)\n",
      "learning time: 274206 ms\n",
      "*** testing phase 8 / 20\n",
      "test: 57 ms (1)\n"
     ]
    },
    {
     "data": {
      "text/html": [
       "<div>\n",
       "<table border=\"1\" class=\"dataframe\">\n",
       "  <thead>\n",
       "    <tr style=\"text-align: right;\">\n",
       "      <th></th>\n",
       "      <th>games won</th>\n",
       "      <th>ratio</th>\n",
       "      <th>rounds won</th>\n",
       "    </tr>\n",
       "  </thead>\n",
       "  <tbody>\n",
       "    <tr>\n",
       "      <th>7</th>\n",
       "      <td>0.508</td>\n",
       "      <td>0.511592</td>\n",
       "      <td>0.560125</td>\n",
       "    </tr>\n",
       "  </tbody>\n",
       "</table>\n",
       "</div>"
      ]
     },
     "output_type": "execute_result",
     "metadata": {}
    },
    {
     "name": "stdout",
     "output_type": "stream",
     "text": [
      "*** learning phase 9 / 20\n",
      "learning: 326 ms (1)\n",
      "learning time: 279629 ms\n",
      "*** testing phase 9 / 20\n",
      "test: 128 ms (1)\n"
     ]
    },
    {
     "data": {
      "text/html": [
       "<div>\n",
       "<table border=\"1\" class=\"dataframe\">\n",
       "  <thead>\n",
       "    <tr style=\"text-align: right;\">\n",
       "      <th></th>\n",
       "      <th>games won</th>\n",
       "      <th>ratio</th>\n",
       "      <th>rounds won</th>\n",
       "    </tr>\n",
       "  </thead>\n",
       "  <tbody>\n",
       "    <tr>\n",
       "      <th>8</th>\n",
       "      <td>0.501</td>\n",
       "      <td>0.501529</td>\n",
       "      <td>0.535875</td>\n",
       "    </tr>\n",
       "  </tbody>\n",
       "</table>\n",
       "</div>"
      ]
     },
     "output_type": "execute_result",
     "metadata": {}
    },
    {
     "name": "stdout",
     "output_type": "stream",
     "text": [
      "*** learning phase 10 / 20\n",
      "learning: 283 ms (1)\n",
      "learning time: 282581 ms\n",
      "*** testing phase 10 / 20\n",
      "test: 517 ms (1)\n"
     ]
    },
    {
     "data": {
      "text/html": [
       "<div>\n",
       "<table border=\"1\" class=\"dataframe\">\n",
       "  <thead>\n",
       "    <tr style=\"text-align: right;\">\n",
       "      <th></th>\n",
       "      <th>games won</th>\n",
       "      <th>ratio</th>\n",
       "      <th>rounds won</th>\n",
       "    </tr>\n",
       "  </thead>\n",
       "  <tbody>\n",
       "    <tr>\n",
       "      <th>9</th>\n",
       "      <td>0.478</td>\n",
       "      <td>0.499669</td>\n",
       "      <td>0.541875</td>\n",
       "    </tr>\n",
       "  </tbody>\n",
       "</table>\n",
       "</div>"
      ]
     },
     "output_type": "execute_result",
     "metadata": {}
    },
    {
     "name": "stdout",
     "output_type": "stream",
     "text": [
      "*** learning phase 11 / 20\n",
      "learning: 364 ms (1)\n",
      "learning time: 289544 ms\n",
      "*** testing phase 11 / 20\n",
      "test: 461 ms (1)\n"
     ]
    },
    {
     "data": {
      "text/html": [
       "<div>\n",
       "<table border=\"1\" class=\"dataframe\">\n",
       "  <thead>\n",
       "    <tr style=\"text-align: right;\">\n",
       "      <th></th>\n",
       "      <th>games won</th>\n",
       "      <th>ratio</th>\n",
       "      <th>rounds won</th>\n",
       "    </tr>\n",
       "  </thead>\n",
       "  <tbody>\n",
       "    <tr>\n",
       "      <th>10</th>\n",
       "      <td>0.504</td>\n",
       "      <td>0.503955</td>\n",
       "      <td>0.552875</td>\n",
       "    </tr>\n",
       "  </tbody>\n",
       "</table>\n",
       "</div>"
      ]
     },
     "output_type": "execute_result",
     "metadata": {}
    },
    {
     "name": "stdout",
     "output_type": "stream",
     "text": [
      "*** learning phase 12 / 20\n",
      "learning: 542 ms (1)\n",
      "learning time: 289734 ms\n",
      "*** testing phase 12 / 20\n",
      "test: 80 ms (1)\n"
     ]
    },
    {
     "data": {
      "text/html": [
       "<div>\n",
       "<table border=\"1\" class=\"dataframe\">\n",
       "  <thead>\n",
       "    <tr style=\"text-align: right;\">\n",
       "      <th></th>\n",
       "      <th>games won</th>\n",
       "      <th>ratio</th>\n",
       "      <th>rounds won</th>\n",
       "    </tr>\n",
       "  </thead>\n",
       "  <tbody>\n",
       "    <tr>\n",
       "      <th>11</th>\n",
       "      <td>0.502</td>\n",
       "      <td>0.508701</td>\n",
       "      <td>0.540625</td>\n",
       "    </tr>\n",
       "  </tbody>\n",
       "</table>\n",
       "</div>"
      ]
     },
     "output_type": "execute_result",
     "metadata": {}
    },
    {
     "name": "stdout",
     "output_type": "stream",
     "text": [
      "*** learning phase 13 / 20\n",
      "learning: 300 ms (1)\n",
      "learning time: 297388 ms\n",
      "*** testing phase 13 / 20\n",
      "test: 171 ms (1)\n"
     ]
    },
    {
     "data": {
      "text/html": [
       "<div>\n",
       "<table border=\"1\" class=\"dataframe\">\n",
       "  <thead>\n",
       "    <tr style=\"text-align: right;\">\n",
       "      <th></th>\n",
       "      <th>games won</th>\n",
       "      <th>ratio</th>\n",
       "      <th>rounds won</th>\n",
       "    </tr>\n",
       "  </thead>\n",
       "  <tbody>\n",
       "    <tr>\n",
       "      <th>12</th>\n",
       "      <td>0.499</td>\n",
       "      <td>0.497146</td>\n",
       "      <td>0.5305</td>\n",
       "    </tr>\n",
       "  </tbody>\n",
       "</table>\n",
       "</div>"
      ]
     },
     "output_type": "execute_result",
     "metadata": {}
    },
    {
     "name": "stdout",
     "output_type": "stream",
     "text": [
      "*** learning phase 14 / 20\n",
      "learning: 72 ms (1)\n",
      "learning time: 302132 ms\n",
      "*** testing phase 14 / 20\n",
      "test: 448 ms (1)\n"
     ]
    },
    {
     "data": {
      "text/html": [
       "<div>\n",
       "<table border=\"1\" class=\"dataframe\">\n",
       "  <thead>\n",
       "    <tr style=\"text-align: right;\">\n",
       "      <th></th>\n",
       "      <th>games won</th>\n",
       "      <th>ratio</th>\n",
       "      <th>rounds won</th>\n",
       "    </tr>\n",
       "  </thead>\n",
       "  <tbody>\n",
       "    <tr>\n",
       "      <th>13</th>\n",
       "      <td>0.513</td>\n",
       "      <td>0.506439</td>\n",
       "      <td>0.54625</td>\n",
       "    </tr>\n",
       "  </tbody>\n",
       "</table>\n",
       "</div>"
      ]
     },
     "output_type": "execute_result",
     "metadata": {}
    },
    {
     "name": "stdout",
     "output_type": "stream",
     "text": [
      "*** learning phase 15 / 20\n",
      "learning: 244 ms (1)\n",
      "learning time: 305223 ms\n",
      "*** testing phase 15 / 20\n",
      "test: 166 ms (1)\n"
     ]
    },
    {
     "data": {
      "text/html": [
       "<div>\n",
       "<table border=\"1\" class=\"dataframe\">\n",
       "  <thead>\n",
       "    <tr style=\"text-align: right;\">\n",
       "      <th></th>\n",
       "      <th>games won</th>\n",
       "      <th>ratio</th>\n",
       "      <th>rounds won</th>\n",
       "    </tr>\n",
       "  </thead>\n",
       "  <tbody>\n",
       "    <tr>\n",
       "      <th>14</th>\n",
       "      <td>0.453</td>\n",
       "      <td>0.490834</td>\n",
       "      <td>0.531125</td>\n",
       "    </tr>\n",
       "  </tbody>\n",
       "</table>\n",
       "</div>"
      ]
     },
     "output_type": "execute_result",
     "metadata": {}
    },
    {
     "name": "stdout",
     "output_type": "stream",
     "text": [
      "*** learning phase 16 / 20\n",
      "learning: 508 ms (1)\n",
      "learning time: 305415 ms\n",
      "*** testing phase 16 / 20\n",
      "test: 157 ms (1)\n"
     ]
    },
    {
     "data": {
      "text/html": [
       "<div>\n",
       "<table border=\"1\" class=\"dataframe\">\n",
       "  <thead>\n",
       "    <tr style=\"text-align: right;\">\n",
       "      <th></th>\n",
       "      <th>games won</th>\n",
       "      <th>ratio</th>\n",
       "      <th>rounds won</th>\n",
       "    </tr>\n",
       "  </thead>\n",
       "  <tbody>\n",
       "    <tr>\n",
       "      <th>15</th>\n",
       "      <td>0.462</td>\n",
       "      <td>0.486771</td>\n",
       "      <td>0.515125</td>\n",
       "    </tr>\n",
       "  </tbody>\n",
       "</table>\n",
       "</div>"
      ]
     },
     "output_type": "execute_result",
     "metadata": {}
    },
    {
     "name": "stdout",
     "output_type": "stream",
     "text": [
      "*** learning phase 17 / 20\n",
      "learning: 168 ms (1)\n",
      "learning time: 304143 ms\n",
      "*** testing phase 17 / 20\n",
      "test: 160 ms (1)\n"
     ]
    },
    {
     "data": {
      "text/html": [
       "<div>\n",
       "<table border=\"1\" class=\"dataframe\">\n",
       "  <thead>\n",
       "    <tr style=\"text-align: right;\">\n",
       "      <th></th>\n",
       "      <th>games won</th>\n",
       "      <th>ratio</th>\n",
       "      <th>rounds won</th>\n",
       "    </tr>\n",
       "  </thead>\n",
       "  <tbody>\n",
       "    <tr>\n",
       "      <th>16</th>\n",
       "      <td>0.483</td>\n",
       "      <td>0.496745</td>\n",
       "      <td>0.52875</td>\n",
       "    </tr>\n",
       "  </tbody>\n",
       "</table>\n",
       "</div>"
      ]
     },
     "output_type": "execute_result",
     "metadata": {}
    },
    {
     "name": "stdout",
     "output_type": "stream",
     "text": [
      "*** learning phase 18 / 20\n",
      "learning: 904 ms (1)\n",
      "learning time: 303831 ms\n",
      "*** testing phase 18 / 20\n",
      "test: 126 ms (1)\n"
     ]
    },
    {
     "data": {
      "text/html": [
       "<div>\n",
       "<table border=\"1\" class=\"dataframe\">\n",
       "  <thead>\n",
       "    <tr style=\"text-align: right;\">\n",
       "      <th></th>\n",
       "      <th>games won</th>\n",
       "      <th>ratio</th>\n",
       "      <th>rounds won</th>\n",
       "    </tr>\n",
       "  </thead>\n",
       "  <tbody>\n",
       "    <tr>\n",
       "      <th>17</th>\n",
       "      <td>0.503</td>\n",
       "      <td>0.508611</td>\n",
       "      <td>0.541625</td>\n",
       "    </tr>\n",
       "  </tbody>\n",
       "</table>\n",
       "</div>"
      ]
     },
     "output_type": "execute_result",
     "metadata": {}
    },
    {
     "name": "stdout",
     "output_type": "stream",
     "text": [
      "*** learning phase 19 / 20\n",
      "learning: 711 ms (1)\n",
      "learning time: 304643 ms\n",
      "*** testing phase 19 / 20\n",
      "test: 124 ms (1)\n"
     ]
    },
    {
     "data": {
      "text/html": [
       "<div>\n",
       "<table border=\"1\" class=\"dataframe\">\n",
       "  <thead>\n",
       "    <tr style=\"text-align: right;\">\n",
       "      <th></th>\n",
       "      <th>games won</th>\n",
       "      <th>ratio</th>\n",
       "      <th>rounds won</th>\n",
       "    </tr>\n",
       "  </thead>\n",
       "  <tbody>\n",
       "    <tr>\n",
       "      <th>18</th>\n",
       "      <td>0.52</td>\n",
       "      <td>0.509</td>\n",
       "      <td>0.544875</td>\n",
       "    </tr>\n",
       "  </tbody>\n",
       "</table>\n",
       "</div>"
      ]
     },
     "output_type": "execute_result",
     "metadata": {}
    },
    {
     "name": "stdout",
     "output_type": "stream",
     "text": [
      "*** learning phase 20 / 20\n",
      "learning: 57 ms (1)\n",
      "learning time: 303961 ms\n",
      "*** testing phase 20 / 20\n",
      "test: 145 ms (1)\n"
     ]
    },
    {
     "data": {
      "text/html": [
       "<div>\n",
       "<table border=\"1\" class=\"dataframe\">\n",
       "  <thead>\n",
       "    <tr style=\"text-align: right;\">\n",
       "      <th></th>\n",
       "      <th>games won</th>\n",
       "      <th>ratio</th>\n",
       "      <th>rounds won</th>\n",
       "    </tr>\n",
       "  </thead>\n",
       "  <tbody>\n",
       "    <tr>\n",
       "      <th>19</th>\n",
       "      <td>0.54</td>\n",
       "      <td>0.516459</td>\n",
       "      <td>0.54325</td>\n",
       "    </tr>\n",
       "  </tbody>\n",
       "</table>\n",
       "</div>"
      ]
     },
     "output_type": "execute_result",
     "metadata": {}
    }
   ],
   "source": [
    "state = init()\n",
    "\n",
    "chrono = Chrono()\n",
    "for s in range(simulations):\n",
    "\n",
    "    temp_memory = []\n",
    "    round_wins = []\n",
    "    print('*** learning phase %i / %i' % (s+1, simulations))\n",
    "    chrono.start()\n",
    "    learning_time = 0\n",
    "    for epoch in range(epochs):\n",
    "        new_game(state)\n",
    "        logger.info(\"*** start of a new game\")\n",
    "        print_state(state)\n",
    "\n",
    "        # we first define the suit order used later for the algorithm, for each player\n",
    "        # (depending on his hand and the current trump suit)\n",
    "        suit_orders = []\n",
    "        for p in range(4):\n",
    "            player_hand = state['p%i_hand' % p]\n",
    "            trump = state['trump']\n",
    "            suit_order = order_suits(player_hand, trump)\n",
    "            suit_orders.append(suit_order)\n",
    "\n",
    "        for j in range(9):\n",
    "            for i in range(4):\n",
    "                suit_order = suit_orders[i]\n",
    "                \n",
    "                #chrono.start()\n",
    "                result = play_once(state, lambda (possible_cards): \\\n",
    "                          choose(suit_order,state,possible_cards,model,temp_memory,epsilon))\n",
    "                #chrono.stop(\"choose\")\n",
    "\n",
    "                assert i < 3 and result is None or \\\n",
    "                       i == 3 and result is not None\n",
    "\n",
    "                if i == 3: # at the end of one round\n",
    "\n",
    "                    round_wins.append(result)\n",
    "\n",
    "                    if len(state['played']) == 36: \n",
    "\n",
    "                        # the game is finished, we can update the model\n",
    "                        chrono.start()\n",
    "                        update_model_game_end(model,temp_memory,round_wins,epsilon)\n",
    "                        learning_time += chrono.stop()\n",
    "\n",
    "    chrono.stop('learning')\n",
    "    print('learning time: %i ms' % learning_time)\n",
    "\n",
    "    game_wins = pd.DataFrame({'game won':[]})\n",
    "    round_wins = pd.DataFrame({'round won':[]})\n",
    "\n",
    "    print('*** testing phase %i / %i' % (s+1, simulations))\n",
    "    game_wins_idx = 0\n",
    "    round_wins_idx = 0\n",
    "    chrono.start()\n",
    "    for epoch in range(test_runs):\n",
    "        new_game(state)\n",
    "        logger.info(\"*** start of a new game\")\n",
    "        print_state(state)\n",
    "\n",
    "        suit_orders = []\n",
    "        for p in range(4):\n",
    "            player_hand = state['p%i_hand' % p]\n",
    "            trump = state['trump']\n",
    "            suit_order = order_suits(player_hand, trump)\n",
    "            suit_orders.append(suit_order)\n",
    "\n",
    "        for j in range(9):\n",
    "            for i in range(4):\n",
    "                suit_order = suit_orders[i]\n",
    "\n",
    "                result = play_once(state, lambda (possible_cards): \\\n",
    "                          choose_for_test(suit_order,state,possible_cards,model))\n",
    "\n",
    "                if result is not None:\n",
    "                    team = result['team']\n",
    "                    is_final = result['final']\n",
    "\n",
    "                    if is_final:\n",
    "                        ratio = result['ratio']\n",
    "                        df = pd.DataFrame({'game won':[1 if team == 0 else 0], 'ratio': [ratio]}, index=[game_wins_idx])\n",
    "                        game_wins = game_wins.append(df)\n",
    "                        game_wins_idx += 1\n",
    "                    else:\n",
    "                        df = pd.DataFrame({'round won':[1 if team == 0 else 0]}, index=[round_wins_idx])\n",
    "                        round_wins = round_wins.append(df)\n",
    "                        round_wins_idx += 1\n",
    "    chrono.stop('test')\n",
    "    \n",
    "    games_won = 1.0 * len(game_wins[game_wins['game won'] == 1]) / test_runs\n",
    "    ratio = game_wins['ratio'].mean()\n",
    "\n",
    "    # we have 8 rounds, excepted the final one that we don't count here\n",
    "    rounds_won = 1.0 * len(round_wins[round_wins['round won'] == 1]) / (test_runs * 8)\n",
    "    \n",
    "    df = pd.DataFrame({'rounds won':[rounds_won], 'games won':[games_won], 'ratio':[ratio]},index=[s])\n",
    "    dp.display(df)\n",
    "    stats = stats.append(df)\n",
    "    \n",
    "    if epsilon > 0.1:\n",
    "        epsilon -= (1.0/simulations)\n",
    "\n",
    "\n",
    "#stats.to_csv('data/%s-stats.csv', now_as_string())"
   ]
  },
  {
   "cell_type": "code",
   "execution_count": null,
   "metadata": {},
   "outputs": [],
   "source": [
    "list(set([1,2,3]) - set([2,3]))\n",
    "\n",
    "def rank_order(i1,i2):\n",
    "    return i2['nb'] - i1['nb'] if i1['nb'] != i2['nb'] else i1['best_rank'] - i2['best_rank']\n",
    "\n",
    "\"abc\".startswith(\"ad\")\n",
    "sorted([{'nb': 1, 'best_rank':4}, {'nb': 2, 'best_rank': 2}], cmp=rank_order)\n",
    "\n",
    "#abc = []\n",
    "\n",
    "#stats.index = range(len(stats))\n",
    "#stats['ratio'].plot()\n",
    "# a = [{'nb': 3, 'best_rank':4}, {'nb': 3, 'best_rank': 2}]\n",
    "# print(a[0]['nb']*10+a[0]['best_rank'])\n",
    "# print(a[1]['nb']*10+a[1]['best_rank'])\n",
    "\n",
    "stats['ratio'].plot()"
   ]
  },
  {
   "cell_type": "code",
   "execution_count": null,
   "metadata": {},
   "outputs": [],
   "source": [
    "game_wins = pd.DataFrame({'game won':[]})\n",
    "round_wins = pd.DataFrame({'round won':[]})\n",
    "\n",
    "game_wins_idx = 0\n",
    "round_wins_idx = 0\n",
    "chrono = Chrono()\n",
    "chrono.start()\n",
    "\n",
    "state = init()\n",
    "for epoch in range(test_runs):\n",
    "    logger.info(\"*** start of a new game\")\n",
    "\n",
    "    new_game(state)\n",
    "    print_state(state)\n",
    "\n",
    "    suit_orders = []\n",
    "    for p in range(4):\n",
    "        player_hand = state['p%i_hand' % p]\n",
    "        trump = state['trump']\n",
    "        suit_order = order_suits(player_hand, trump)\n",
    "        suit_orders.append(suit_order)\n",
    "\n",
    "    for j in range(9):\n",
    "        for i in range(4):\n",
    "            suit_order = suit_orders[i]\n",
    "\n",
    "            result = play_once(state, lambda (possible_cards): \\\n",
    "                      choose_for_test(suit_order,state,possible_cards,model,temp_memory,epsilon))\n",
    "\n",
    "            if result is not None:\n",
    "                team = result['team']\n",
    "                is_final = result['final']\n",
    "\n",
    "                if is_final:\n",
    "                    ratio = result['ratio']\n",
    "                    df = pd.DataFrame({'game won':[1 if team == 0 else 0], 'ratio': [ratio]}, index=[game_wins_idx])\n",
    "                    game_wins = game_wins.append(df)\n",
    "                    game_wins_idx += 1\n",
    "                else:\n",
    "                    df = pd.DataFrame({'round won':[1 if team == 0 else 0]}, index=[round_wins_idx])\n",
    "                    round_wins = round_wins.append(df)\n",
    "                    round_wins_idx += 1\n",
    "chrono.stop('test')\n",
    "\n",
    "games_won = 1.0 * len(game_wins[game_wins['game won'] == 1]) / test_runs\n",
    "ratio = game_wins['ratio'].mean()\n",
    "\n",
    "# we have 8 rounds, excepted the final one that we don't count here\n",
    "rounds_won = 1.0 * len(round_wins[round_wins['round won'] == 1]) / (test_runs * 8)\n",
    "\n",
    "df = pd.DataFrame({'rounds won':[rounds_won], 'games won':[games_won], 'ratio':[ratio]},index=[s])\n",
    "dp.display(df)"
   ]
  },
  {
   "cell_type": "code",
   "execution_count": null,
   "metadata": {},
   "outputs": [],
   "source": [
    "from jassbot.utils.Logger import *\n",
    "\n",
    "logger.debug(\"123\")\n",
    "print(logger)\n",
    "logger.info('foo')\n",
    "\n",
    "#len(round_wins[round_wins['round won'] == 1])\n",
    "\n",
    "a = [1,2]\n",
    "b = a\n",
    "a += [3]\n",
    "\n",
    "stats.plot()"
   ]
  },
  {
   "cell_type": "code",
   "execution_count": null,
   "metadata": {},
   "outputs": [],
   "source": [
    "5"
   ]
  },
  {
   "cell_type": "code",
   "execution_count": 7,
   "metadata": {},
   "outputs": [
    {
     "data": {
      "text/plain": [
       "<keras.models.Sequential at 0x106265510>"
      ]
     },
     "execution_count": 7,
     "output_type": "execute_result",
     "metadata": {}
    },
    {
     "data": {
      "image/png": "[encoded data removed]"
     },
     "output_type": "display_data",
     "metadata": {}
    }
   ],
   "source": [
    "stats.plot()\n",
    "\n",
    "model"
   ]
  },
  {
   "cell_type": "code",
   "execution_count": 21,
   "metadata": {},
   "outputs": [
    {
     "name": "stdout",
     "output_type": "stream",
     "text": [
      "2016-06-29 22:56:24,273 - root - INFO - init game\n",
      "2016-06-29 22:56:24,274 - root - INFO - new game\n",
      "2016-06-29 22:56:24,275 - root - INFO - -------------------------------\n",
      "2016-06-29 22:56:24,276 - root - INFO - trump: heart\n",
      "2016-06-29 22:56:24,276 - root - INFO - current: []\n",
      "2016-06-29 22:56:24,276 - root - INFO - player 0: ['diamond_j', 'spade_7', 'spade_j', 'diamond_10', 'heart_a', 'heart_6', 'club_a', 'diamond_9', 'club_6']\n",
      "2016-06-29 22:56:24,277 - root - INFO - player 1: ['heart_k', 'club_q', 'club_8', 'diamond_6', 'heart_10', 'heart_7', 'diamond_8', 'spade_a', 'spade_k']\n",
      "2016-06-29 22:56:24,277 - root - INFO - player 2: ['heart_q', 'heart_j', 'club_9', 'diamond_a', 'spade_10', 'spade_8', 'club_k', 'club_7', 'heart_8']\n",
      "2016-06-29 22:56:24,278 - root - INFO - player 3: ['club_10', 'diamond_k', 'spade_9', 'diamond_q', 'spade_q', 'spade_6', 'heart_9', 'diamond_7', 'club_j']\n",
      "2016-06-29 22:56:24,278 - root - INFO - team 0: 0 pts, team 1: 0 pts\n",
      "2016-06-29 22:56:24,278 - root - INFO - played: []\n",
      "2016-06-29 22:56:24,278 - root - INFO - -------------------------------\n",
      "2016-06-29 22:56:24,280 - root - INFO - player 0 plays club_a\n",
      "2016-06-29 22:56:24,280 - root - INFO - player 1 plays heart_k\n",
      "2016-06-29 22:56:24,281 - root - INFO - player 2 plays heart_j\n",
      "2016-06-29 22:56:24,281 - root - INFO - player 3 plays club_j\n",
      "2016-06-29 22:56:24,282 - root - INFO - player 2 & team 0 wins the round: 37 points\n",
      "2016-06-29 22:56:24,282 - root - INFO - player 2 plays heart_q\n",
      "2016-06-29 22:56:24,283 - root - INFO - player 3 plays heart_9\n",
      "2016-06-29 22:56:24,283 - root - INFO - player 0 plays heart_6\n",
      "2016-06-29 22:56:24,284 - root - INFO - player 1 plays heart_7\n",
      "2016-06-29 22:56:24,284 - root - INFO - player 3 & team 1 wins the round: 17 points\n",
      "2016-06-29 22:56:24,284 - root - INFO - player 3 plays spade_q\n",
      "2016-06-29 22:56:24,285 - root - INFO - player 0 plays spade_j\n",
      "2016-06-29 22:56:24,286 - root - INFO - player 1 plays heart_10\n",
      "2016-06-29 22:56:24,286 - root - INFO - player 2 plays spade_8\n",
      "2016-06-29 22:56:24,287 - root - INFO - player 1 & team 1 wins the round: 15 points\n",
      "2016-06-29 22:56:24,287 - root - INFO - player 1 plays club_q\n",
      "2016-06-29 22:56:24,288 - root - INFO - player 2 plays club_9\n",
      "2016-06-29 22:56:24,288 - root - INFO - player 3 plays club_10\n",
      "2016-06-29 22:56:24,289 - root - INFO - player 0 plays heart_a\n",
      "2016-06-29 22:56:24,289 - root - INFO - player 0 & team 0 wins the round: 24 points\n",
      "2016-06-29 22:56:24,290 - root - INFO - player 0 plays spade_7\n",
      "2016-06-29 22:56:24,290 - root - INFO - player 1 plays spade_a\n",
      "2016-06-29 22:56:24,291 - root - INFO - player 2 plays heart_8\n",
      "2016-06-29 22:56:24,292 - root - INFO - player 3 plays spade_9\n",
      "2016-06-29 22:56:24,293 - root - INFO - player 2 & team 0 wins the round: 11 points\n",
      "2016-06-29 22:56:24,293 - root - INFO - player 2 plays diamond_a\n",
      "2016-06-29 22:56:24,294 - root - INFO - player 3 plays diamond_q\n",
      "2016-06-29 22:56:24,295 - root - INFO - player 0 plays diamond_10\n",
      "2016-06-29 22:56:24,295 - root - INFO - player 1 plays diamond_8\n",
      "2016-06-29 22:56:24,295 - root - INFO - player 2 & team 0 wins the round: 24 points\n",
      "2016-06-29 22:56:24,296 - root - INFO - player 2 plays club_k\n",
      "2016-06-29 22:56:24,296 - root - INFO - player 3 plays diamond_7\n",
      "2016-06-29 22:56:24,297 - root - INFO - player 0 plays club_6\n",
      "2016-06-29 22:56:24,297 - root - INFO - player 1 plays club_8\n",
      "2016-06-29 22:56:24,298 - root - INFO - player 2 & team 0 wins the round: 4 points\n",
      "2016-06-29 22:56:24,298 - root - INFO - player 2 plays spade_10\n",
      "2016-06-29 22:56:24,298 - root - INFO - player 3 plays spade_6\n",
      "2016-06-29 22:56:24,299 - root - INFO - player 0 plays diamond_j\n",
      "2016-06-29 22:56:24,299 - root - INFO - player 1 plays spade_k\n",
      "2016-06-29 22:56:24,300 - root - INFO - player 1 & team 1 wins the round: 16 points\n",
      "2016-06-29 22:56:24,300 - root - INFO - player 1 plays diamond_6\n",
      "2016-06-29 22:56:24,300 - root - INFO - player 2 plays club_7\n",
      "2016-06-29 22:56:24,301 - root - INFO - player 3 plays diamond_k\n",
      "2016-06-29 22:56:24,301 - root - INFO - player 0 plays diamond_9\n",
      "2016-06-29 22:56:24,302 - root - INFO - player 3 & team 1 wins the round: 4 points\n",
      "2016-06-29 22:56:24,302 - root - INFO - game finished: team 0 100 pts, team 1 57 pts\n",
      "2016-06-29 22:56:24,302 - root - INFO - -------------------------------\n",
      "2016-06-29 22:56:24,303 - root - INFO - trump: heart\n",
      "2016-06-29 22:56:24,303 - root - INFO - current: []\n",
      "2016-06-29 22:56:24,303 - root - INFO - player 0: []\n",
      "2016-06-29 22:56:24,303 - root - INFO - player 1: []\n",
      "2016-06-29 22:56:24,304 - root - INFO - player 2: []\n",
      "2016-06-29 22:56:24,304 - root - INFO - player 3: []\n",
      "2016-06-29 22:56:24,304 - root - INFO - team 0: 100 pts, team 1: 57 pts\n",
      "2016-06-29 22:56:24,304 - root - INFO - played: ['club_a', 'heart_k', 'heart_j', 'club_j', 'heart_q', 'heart_9', 'heart_6', 'heart_7', 'spade_q', 'spade_j', 'heart_10', 'spade_8', 'club_q', 'club_9', 'club_10', 'heart_a', 'spade_7', 'spade_a', 'heart_8', 'spade_9', 'diamond_a', 'diamond_q', 'diamond_10', 'diamond_8', 'club_k', 'diamond_7', 'club_6', 'club_8', 'spade_10', 'spade_6', 'diamond_j', 'spade_k', 'diamond_6', 'club_7', 'diamond_k', 'diamond_9']\n",
      "2016-06-29 22:56:24,305 - root - INFO - -------------------------------\n"
     ]
    }
   ],
   "source": [
    "from jassbot.utils.Logger import *\n",
    "\n",
    "state = init()\n",
    "new_game(state)\n",
    "print_state(state)\n",
    "\n",
    "suit_orders = []\n",
    "for p in range(4):\n",
    "    player_hand = state['p%i_hand' % p]\n",
    "    trump = state['trump']\n",
    "    suit_order = order_suits(player_hand, trump)\n",
    "    suit_orders.append(suit_order)\n",
    "\n",
    "for j in range(9):\n",
    "    for i in range(4):\n",
    "        suit_order = suit_orders[i]\n",
    "    \n",
    "        play_once(state, lambda (possible_cards): \\\n",
    "                          choose_for_test(suit_order,state,possible_cards,model))\n",
    "\n",
    "print_state(state)"
   ]
  },
  {
   "cell_type": "code",
   "execution_count": 24,
   "metadata": {},
   "outputs": [
    {
     "data": {
      "text/plain": [
       "'2016-06-29-230841'"
      ]
     },
     "execution_count": 24,
     "output_type": "execute_result",
     "metadata": {}
    }
   ],
   "source": [
    "save_model(model, stats, \"first model which gets about 55% score against the random bot\")"
   ]
  }
 ],
 "metadata": {
  "kernelspec": {
   "display_name": "Python 2",
   "language": "python",
   "name": "python2"
  },
  "language_info": {
   "codemirror_mode": {
    "name": "ipython",
    "version": 2.0
   },
   "file_extension": ".py",
   "mimetype": "text/x-python",
   "name": "python",
   "nbconvert_exporter": "python",
   "pygments_lexer": "ipython2",
   "version": "2.7.10"
  }
 },
 "nbformat": 4,
 "nbformat_minor": 0
}