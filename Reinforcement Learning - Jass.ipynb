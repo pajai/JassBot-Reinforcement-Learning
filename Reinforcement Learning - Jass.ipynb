{
 "cells": [
  {
   "cell_type": "code",
   "execution_count": 8,
   "metadata": {
    "collapsed": false
   },
   "outputs": [
    {
     "name": "stdout",
     "output_type": "stream",
     "text": [
      "The autoreload extension is already loaded. To reload it, use:\n",
      "  %reload_ext autoreload\n"
     ]
    }
   ],
   "source": [
    "%load_ext autoreload\n",
    "%autoreload 2\n",
    "\n",
    "import random\n",
    "import numpy as np\n",
    "from jassbot.Config import *\n",
    "from jassbot.GameLogic import *\n"
   ]
  },
  {
   "cell_type": "code",
   "execution_count": 9,
   "metadata": {
    "collapsed": false
   },
   "outputs": [
    {
     "name": "stdout",
     "output_type": "stream",
     "text": [
      "init game\n",
      "new game\n",
      "---\n",
      "trump: spade\n",
      "current: []\n",
      "player 0: ['spade_j', 'club_a', 'heart_7', 'club_10', 'heart_6', 'spade_8', 'diamond_7', 'heart_j', 'heart_8']\n",
      "-------------------------------\n",
      "player 1: ['spade_k', 'club_6', 'heart_10', 'spade_10', 'spade_7', 'diamond_10', 'heart_9', 'spade_6', 'spade_a']\n",
      "player 2: ['diamond_9', 'club_7', 'heart_q', 'club_8', 'club_j', 'diamond_a', 'heart_k', 'diamond_6', 'diamond_q']\n",
      "player 3: ['spade_q', 'diamond_j', 'heart_a', 'club_9', 'diamond_k', 'club_k', 'diamond_8', 'spade_9', 'club_q']\n",
      "team 0: 0 pts, team 1: 0 pts\n",
      "played: []\n",
      "-------------------------------\n",
      "player 0 plays spade_j\n",
      "player 1 plays spade_10\n",
      "player 2 plays club_j\n",
      "player 3 plays spade_q\n",
      "player 0 & team 0 wins the round: 35 points\n",
      "player 0 plays heart_6\n",
      "player 1 plays heart_10\n",
      "player 2 plays heart_q\n",
      "player 3 plays heart_a\n",
      "player 3 & team 1 wins the round: 24 points\n",
      "player 3 plays club_q\n",
      "player 0 plays club_a\n",
      "player 1 plays spade_k\n",
      "player 2 plays club_8\n",
      "player 1 & team 1 wins the round: 18 points\n",
      "player 1 plays diamond_10\n",
      "player 2 plays diamond_6\n",
      "player 3 plays diamond_j\n",
      "player 0 plays spade_8\n",
      "player 0 & team 0 wins the round: 12 points\n",
      "player 0 plays diamond_7\n",
      "player 1 plays spade_7\n",
      "player 2 plays diamond_a\n",
      "player 3 plays spade_9\n",
      "player 3 & team 1 wins the round: 25 points\n",
      "player 3 plays club_k\n",
      "player 0 plays club_10\n",
      "player 1 plays spade_a\n",
      "player 2 plays club_7\n",
      "player 1 & team 1 wins the round: 25 points\n",
      "player 1 plays club_6\n",
      "player 2 plays heart_k\n",
      "player 3 plays club_9\n",
      "player 0 plays heart_8\n",
      "player 3 & team 1 wins the round: 4 points\n",
      "player 3 plays diamond_k\n",
      "player 0 plays heart_j\n",
      "player 1 plays spade_6\n",
      "player 2 plays diamond_9\n",
      "player 1 & team 1 wins the round: 6 points\n",
      "player 1 plays heart_9\n",
      "player 2 plays diamond_q\n",
      "player 3 plays diamond_8\n",
      "player 0 plays heart_7\n",
      "player 1 & team 1 wins the round: 3 points\n",
      "game finished: team 0 47 pts, team 1 110 pts\n",
      "---\n",
      "trump: spade\n",
      "current: []\n",
      "player 0: []\n",
      "-------------------------------\n",
      "player 1: []\n",
      "player 2: []\n",
      "player 3: []\n",
      "team 0: 47 pts, team 1: 110 pts\n",
      "played: ['spade_j', 'spade_10', 'club_j', 'spade_q', 'heart_6', 'heart_10', 'heart_q', 'heart_a', 'club_q', 'club_a', 'spade_k', 'club_8', 'diamond_10', 'diamond_6', 'diamond_j', 'spade_8', 'diamond_7', 'spade_7', 'diamond_a', 'spade_9', 'club_k', 'club_10', 'spade_a', 'club_7', 'club_6', 'heart_k', 'club_9', 'heart_8', 'diamond_k', 'heart_j', 'spade_6', 'diamond_9', 'heart_9', 'diamond_q', 'diamond_8', 'heart_7']\n",
      "-------------------------------\n"
     ]
    }
   ],
   "source": [
    "state = init()\n",
    "new_game(state)\n",
    "print_state(state)\n",
    "while len(state['played']) < 36:\n",
    "    play_round(state)\n",
    "print_state(state)"
   ]
  }
 ],
 "metadata": {
  "kernelspec": {
   "display_name": "Python 2",
   "language": "python",
   "name": "python2"
  },
  "language_info": {
   "codemirror_mode": {
    "name": "ipython",
    "version": 2
   },
   "file_extension": ".py",
   "mimetype": "text/x-python",
   "name": "python",
   "nbconvert_exporter": "python",
   "pygments_lexer": "ipython2",
   "version": "2.7.10"
  }
 },
 "nbformat": 4,
 "nbformat_minor": 0
}
