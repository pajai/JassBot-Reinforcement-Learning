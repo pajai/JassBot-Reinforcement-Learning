{
 "cells": [
  {
   "cell_type": "markdown",
   "metadata": {},
   "source": [
    "# Greedy Strategy"
   ]
  },
  {
   "cell_type": "code",
   "execution_count": 208,
   "metadata": {},
   "outputs": [],
   "source": [
    "#imports, nothing to see here\n",
    "import numpy as np\n",
    "from scipy import stats\n",
    "import random\n",
    "import matplotlib.pyplot as plt\n",
    "%matplotlib inline"
   ]
  },
  {
   "cell_type": "code",
   "execution_count": 209,
   "metadata": {},
   "outputs": [
    {
     "data": {
      "text/plain": [
       "array([ 0.72525694,  0.32193374,  0.51203248,  0.94174224,  0.28919483,\n",
       "        0.9892193 ,  0.29146385,  0.63523101,  0.98542736,  0.68683405])"
      ]
     },
     "execution_count": 209,
     "output_type": "execute_result",
     "metadata": {}
    }
   ],
   "source": [
    "n = 10\n",
    "arms = np.random.rand(n)\n",
    "eps = 0.1\n",
    "arms"
   ]
  },
  {
   "cell_type": "code",
   "execution_count": 210,
   "metadata": {},
   "outputs": [],
   "source": [
    "def reward(prob):\n",
    "    reward = 0;\n",
    "    for i in range(10):\n",
    "        if random.random() < prob:\n",
    "            reward += 1\n",
    "    return reward"
   ]
  },
  {
   "cell_type": "markdown",
   "metadata": {},
   "source": [
    "### Here bestArm always retrieve the arm index which has so far delivered the best mean score"
   ]
  },
  {
   "cell_type": "code",
   "execution_count": 211,
   "metadata": {},
   "outputs": [],
   "source": [
    "#initialize memory array; has 1 row defaulted to random action index\n",
    "mus = np.array([0.0]*n)\n",
    "nbs = np.array([0]*n)\n",
    "\n",
    "#greedy method to select best arm based on memory array (historical results)\n",
    "def bestArm(mus):\n",
    "    bestArm = 0 #just default to 0\n",
    "    return np.argmax(mus)"
   ]
  },
  {
   "cell_type": "code",
   "execution_count": 212,
   "metadata": {},
   "outputs": [
    {
     "data": {
      "image/png": "[encoded data removed]"
     },
     "output_type": "display_data",
     "metadata": {}
    }
   ],
   "source": [
    "plt.xlabel(\"Plays\")\n",
    "plt.ylabel(\"Avg Reward\")\n",
    "for i in range(1000):\n",
    "    if random.random() > eps: #greedy arm selection\n",
    "        choice = bestArm(mus)\n",
    "    else: #random arm selection\n",
    "        choice = np.where(arms == np.random.choice(arms))[0][0]\n",
    "    rew = reward(arms[choice])\n",
    "    nb = nbs[choice]\n",
    "    mus[choice] = (nb * mus[choice] + 10 * rew) / (nb + 10)\n",
    "    nbs[choice] += 10\n",
    "    mean = np.sum(mus*nbs)/np.sum(nbs)\n",
    "    \n",
    "    plt.scatter(i, mean)"
   ]
  },
  {
   "cell_type": "code",
   "execution_count": 213,
   "metadata": {},
   "outputs": [
    {
     "data": {
      "text/plain": [
       "array([ 7.125     ,  3.1       ,  5.8       ,  9.33766234,  2.25      ,\n",
       "        9.89625   ,  3.36363636,  6.9       ,  9.88235294,  7.875     ])"
      ]
     },
     "execution_count": 213,
     "output_type": "execute_result",
     "metadata": {}
    }
   ],
   "source": [
    "mus"
   ]
  },
  {
   "cell_type": "markdown",
   "metadata": {},
   "source": [
    "# With Softmax"
   ]
  },
  {
   "cell_type": "code",
   "execution_count": 214,
   "metadata": {},
   "outputs": [
    {
     "data": {
      "image/png": "[encoded data removed]"
     },
     "output_type": "display_data",
     "metadata": {}
    }
   ],
   "source": [
    "n = 10\n",
    "arms = np.random.rand(n)\n",
    "\n",
    "av = np.ones(n) #initialize action-value array, stores running reward mean\n",
    "counts = np.zeros(n) #stores counts of how many times we've taken a particular action\n",
    "#stores our softmax-generated probability ranks for each action\n",
    "av_softmax = np.zeros(n)\n",
    "av_softmax[:] = 0.1 #initialize each action to have equal probability\n",
    "\n",
    "def reward(prob):\n",
    "    total = 0;\n",
    "    for i in range(10):\n",
    "        if random.random() < prob:\n",
    "            total += 1\n",
    "    return total\n",
    "\n",
    "tau = 1.12 #tau was selected by trial and error\n",
    "def softmax(av):\n",
    "    probs = np.zeros(n)\n",
    "    for i in range(n):\n",
    "        softm = ( np.exp(av[i] / tau) / np.sum( np.exp(av[:] / tau) ) )\n",
    "        probs[i] = softm\n",
    "    return probs\n",
    "\n",
    "plt.xlabel(\"Plays\")\n",
    "plt.ylabel(\"Mean Reward\")\n",
    "for i in range(500):\n",
    "    #select random arm using weighted probability distribution\n",
    "    choice = np.where(arms == np.random.choice(arms, p=av_softmax))[0][0]\n",
    "    counts[choice] += 1\n",
    "    k = counts[choice]\n",
    "    rwd =  reward(arms[choice])\n",
    "    old_avg = av[choice]\n",
    "    new_avg = old_avg + (1/k)*(rwd - old_avg)\n",
    "    av[choice] = new_avg\n",
    "    av_softmax = softmax(av) #update softmax probabilities for next play\n",
    "\n",
    "    runningMean = np.average(av, weights=np.array([counts[i]/np.sum(counts) for i in range(len(counts))]))\n",
    "    plt.scatter(i, runningMean)"
   ]
  }
 ],
 "metadata": {
  "kernelspec": {
   "display_name": "Python 2",
   "language": "python",
   "name": "python2"
  },
  "language_info": {
   "codemirror_mode": {
    "name": "ipython",
    "version": 2.0
   },
   "file_extension": ".py",
   "mimetype": "text/x-python",
   "name": "python",
   "nbconvert_exporter": "python",
   "pygments_lexer": "ipython2",
   "version": "2.7.10"
  }
 },
 "nbformat": 4,
 "nbformat_minor": 0
}